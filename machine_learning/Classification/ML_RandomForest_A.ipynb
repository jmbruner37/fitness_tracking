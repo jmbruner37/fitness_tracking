{
 "cells": [
  {
   "cell_type": "code",
   "execution_count": 1,
   "metadata": {},
   "outputs": [],
   "source": [
    "from sklearn import tree\n",
    "import pandas as pd\n",
    "import os"
   ]
  },
  {
   "cell_type": "code",
   "execution_count": 2,
   "metadata": {},
   "outputs": [
    {
     "data": {
      "text/html": [
       "<div>\n",
       "<style scoped>\n",
       "    .dataframe tbody tr th:only-of-type {\n",
       "        vertical-align: middle;\n",
       "    }\n",
       "\n",
       "    .dataframe tbody tr th {\n",
       "        vertical-align: top;\n",
       "    }\n",
       "\n",
       "    .dataframe thead th {\n",
       "        text-align: right;\n",
       "    }\n",
       "</style>\n",
       "<table border=\"1\" class=\"dataframe\">\n",
       "  <thead>\n",
       "    <tr style=\"text-align: right;\">\n",
       "      <th></th>\n",
       "      <th>id</th>\n",
       "      <th>type</th>\n",
       "      <th>type_m</th>\n",
       "      <th>x_gear_name</th>\n",
       "      <th>start_date_local</th>\n",
       "      <th>x_start_h</th>\n",
       "      <th>name</th>\n",
       "      <th>x_min</th>\n",
       "      <th>x_km</th>\n",
       "      <th>x_min/km</th>\n",
       "      <th>...</th>\n",
       "      <th>start_longitude</th>\n",
       "      <th>timezone</th>\n",
       "      <th>total_photo_count</th>\n",
       "      <th>trainer</th>\n",
       "      <th>upload_id</th>\n",
       "      <th>upload_id_str</th>\n",
       "      <th>utc_offset</th>\n",
       "      <th>x_date</th>\n",
       "      <th>x_elev_%</th>\n",
       "      <th>x_url</th>\n",
       "    </tr>\n",
       "  </thead>\n",
       "  <tbody>\n",
       "    <tr>\n",
       "      <th>0</th>\n",
       "      <td>2850013230</td>\n",
       "      <td>Run</td>\n",
       "      <td>Hike</td>\n",
       "      <td>NaN</td>\n",
       "      <td>07.11.2019 16:46:32</td>\n",
       "      <td>16.8</td>\n",
       "      <td>Afternoon Run</td>\n",
       "      <td>42.1</td>\n",
       "      <td>0.458</td>\n",
       "      <td>92.08</td>\n",
       "      <td>...</td>\n",
       "      <td>NaN</td>\n",
       "      <td>(GMT-08:00) America/Los_Angeles</td>\n",
       "      <td>0</td>\n",
       "      <td>1</td>\n",
       "      <td>3022102505</td>\n",
       "      <td>3022102505</td>\n",
       "      <td>-28800</td>\n",
       "      <td>2019-11-07</td>\n",
       "      <td>NaN</td>\n",
       "      <td>https://www.strava.com/activities/2850013230</td>\n",
       "    </tr>\n",
       "    <tr>\n",
       "      <th>1</th>\n",
       "      <td>2895327719</td>\n",
       "      <td>Run</td>\n",
       "      <td>Hike</td>\n",
       "      <td>NaN</td>\n",
       "      <td>22.11.2019 17:05:04</td>\n",
       "      <td>17.1</td>\n",
       "      <td>Afternoon Run</td>\n",
       "      <td>20.1</td>\n",
       "      <td>0.234</td>\n",
       "      <td>85.91</td>\n",
       "      <td>...</td>\n",
       "      <td>NaN</td>\n",
       "      <td>(GMT-08:00) America/Los_Angeles</td>\n",
       "      <td>0</td>\n",
       "      <td>1</td>\n",
       "      <td>3077242534</td>\n",
       "      <td>3077242534</td>\n",
       "      <td>-28800</td>\n",
       "      <td>2019-11-22</td>\n",
       "      <td>NaN</td>\n",
       "      <td>https://www.strava.com/activities/2895327719</td>\n",
       "    </tr>\n",
       "    <tr>\n",
       "      <th>2</th>\n",
       "      <td>2832492215</td>\n",
       "      <td>Run</td>\n",
       "      <td>Hike</td>\n",
       "      <td>NaN</td>\n",
       "      <td>31.10.2019 15:41:16</td>\n",
       "      <td>15.7</td>\n",
       "      <td>Afternoon Run</td>\n",
       "      <td>62.1</td>\n",
       "      <td>0.870</td>\n",
       "      <td>71.53</td>\n",
       "      <td>...</td>\n",
       "      <td>NaN</td>\n",
       "      <td>(GMT-08:00) America/Los_Angeles</td>\n",
       "      <td>0</td>\n",
       "      <td>1</td>\n",
       "      <td>3002283821</td>\n",
       "      <td>3002283821</td>\n",
       "      <td>-25200</td>\n",
       "      <td>2019-10-31</td>\n",
       "      <td>NaN</td>\n",
       "      <td>https://www.strava.com/activities/2832492215</td>\n",
       "    </tr>\n",
       "    <tr>\n",
       "      <th>3</th>\n",
       "      <td>2832492192</td>\n",
       "      <td>Run</td>\n",
       "      <td>Hike</td>\n",
       "      <td>NaN</td>\n",
       "      <td>28.10.2019 15:17:05</td>\n",
       "      <td>15.3</td>\n",
       "      <td>Afternoon Run</td>\n",
       "      <td>42.1</td>\n",
       "      <td>0.686</td>\n",
       "      <td>61.27</td>\n",
       "      <td>...</td>\n",
       "      <td>NaN</td>\n",
       "      <td>(GMT-08:00) America/Los_Angeles</td>\n",
       "      <td>0</td>\n",
       "      <td>1</td>\n",
       "      <td>3002283809</td>\n",
       "      <td>3002283809</td>\n",
       "      <td>-25200</td>\n",
       "      <td>2019-10-28</td>\n",
       "      <td>NaN</td>\n",
       "      <td>https://www.strava.com/activities/2832492192</td>\n",
       "    </tr>\n",
       "    <tr>\n",
       "      <th>4</th>\n",
       "      <td>2877878037</td>\n",
       "      <td>Run</td>\n",
       "      <td>Hike</td>\n",
       "      <td>NaN</td>\n",
       "      <td>18.11.2019 16:00:16</td>\n",
       "      <td>16.0</td>\n",
       "      <td>Afternoon Run</td>\n",
       "      <td>52.1</td>\n",
       "      <td>0.907</td>\n",
       "      <td>57.47</td>\n",
       "      <td>...</td>\n",
       "      <td>NaN</td>\n",
       "      <td>(GMT-08:00) America/Los_Angeles</td>\n",
       "      <td>0</td>\n",
       "      <td>1</td>\n",
       "      <td>3055046850</td>\n",
       "      <td>3055046850</td>\n",
       "      <td>-28800</td>\n",
       "      <td>2019-11-18</td>\n",
       "      <td>NaN</td>\n",
       "      <td>https://www.strava.com/activities/2877878037</td>\n",
       "    </tr>\n",
       "  </tbody>\n",
       "</table>\n",
       "<p>5 rows × 74 columns</p>\n",
       "</div>"
      ],
      "text/plain": [
       "           id type type_m  x_gear_name     start_date_local  x_start_h  \\\n",
       "0  2850013230  Run   Hike          NaN  07.11.2019 16:46:32       16.8   \n",
       "1  2895327719  Run   Hike          NaN  22.11.2019 17:05:04       17.1   \n",
       "2  2832492215  Run   Hike          NaN  31.10.2019 15:41:16       15.7   \n",
       "3  2832492192  Run   Hike          NaN  28.10.2019 15:17:05       15.3   \n",
       "4  2877878037  Run   Hike          NaN  18.11.2019 16:00:16       16.0   \n",
       "\n",
       "            name  x_min   x_km  x_min/km  ...  start_longitude  \\\n",
       "0  Afternoon Run   42.1  0.458     92.08  ...              NaN   \n",
       "1  Afternoon Run   20.1  0.234     85.91  ...              NaN   \n",
       "2  Afternoon Run   62.1  0.870     71.53  ...              NaN   \n",
       "3  Afternoon Run   42.1  0.686     61.27  ...              NaN   \n",
       "4  Afternoon Run   52.1  0.907     57.47  ...              NaN   \n",
       "\n",
       "                          timezone  total_photo_count  trainer   upload_id  \\\n",
       "0  (GMT-08:00) America/Los_Angeles                  0        1  3022102505   \n",
       "1  (GMT-08:00) America/Los_Angeles                  0        1  3077242534   \n",
       "2  (GMT-08:00) America/Los_Angeles                  0        1  3002283821   \n",
       "3  (GMT-08:00) America/Los_Angeles                  0        1  3002283809   \n",
       "4  (GMT-08:00) America/Los_Angeles                  0        1  3055046850   \n",
       "\n",
       "   upload_id_str  utc_offset      x_date  x_elev_%  \\\n",
       "0     3022102505      -28800  2019-11-07       NaN   \n",
       "1     3077242534      -28800  2019-11-22       NaN   \n",
       "2     3002283821      -25200  2019-10-31       NaN   \n",
       "3     3002283809      -25200  2019-10-28       NaN   \n",
       "4     3055046850      -28800  2019-11-18       NaN   \n",
       "\n",
       "                                          x_url  \n",
       "0  https://www.strava.com/activities/2850013230  \n",
       "1  https://www.strava.com/activities/2895327719  \n",
       "2  https://www.strava.com/activities/2832492215  \n",
       "3  https://www.strava.com/activities/2832492192  \n",
       "4  https://www.strava.com/activities/2877878037  \n",
       "\n",
       "[5 rows x 74 columns]"
      ]
     },
     "execution_count": 2,
     "metadata": {},
     "output_type": "execute_result"
    }
   ],
   "source": [
    "activity = pd.read_csv(os.path.join('andrew_data2.csv'))\n",
    "activity.head()"
   ]
  },
  {
   "cell_type": "code",
   "execution_count": 3,
   "metadata": {},
   "outputs": [
    {
     "data": {
      "text/html": [
       "<div>\n",
       "<style scoped>\n",
       "    .dataframe tbody tr th:only-of-type {\n",
       "        vertical-align: middle;\n",
       "    }\n",
       "\n",
       "    .dataframe tbody tr th {\n",
       "        vertical-align: top;\n",
       "    }\n",
       "\n",
       "    .dataframe thead th {\n",
       "        text-align: right;\n",
       "    }\n",
       "</style>\n",
       "<table border=\"1\" class=\"dataframe\">\n",
       "  <thead>\n",
       "    <tr style=\"text-align: right;\">\n",
       "      <th></th>\n",
       "      <th>type_m</th>\n",
       "      <th>x_start_h</th>\n",
       "      <th>x_min</th>\n",
       "      <th>average_heartrate</th>\n",
       "      <th>max_heartrate</th>\n",
       "      <th>average_cadence</th>\n",
       "    </tr>\n",
       "  </thead>\n",
       "  <tbody>\n",
       "    <tr>\n",
       "      <th>0</th>\n",
       "      <td>Hike</td>\n",
       "      <td>16.8</td>\n",
       "      <td>42.1</td>\n",
       "      <td>127.2</td>\n",
       "      <td>161.0</td>\n",
       "      <td>42.3</td>\n",
       "    </tr>\n",
       "    <tr>\n",
       "      <th>1</th>\n",
       "      <td>Hike</td>\n",
       "      <td>17.1</td>\n",
       "      <td>20.1</td>\n",
       "      <td>114.8</td>\n",
       "      <td>148.0</td>\n",
       "      <td>43.0</td>\n",
       "    </tr>\n",
       "    <tr>\n",
       "      <th>2</th>\n",
       "      <td>Hike</td>\n",
       "      <td>15.7</td>\n",
       "      <td>62.1</td>\n",
       "      <td>118.6</td>\n",
       "      <td>156.0</td>\n",
       "      <td>43.5</td>\n",
       "    </tr>\n",
       "    <tr>\n",
       "      <th>3</th>\n",
       "      <td>Hike</td>\n",
       "      <td>15.3</td>\n",
       "      <td>42.1</td>\n",
       "      <td>125.4</td>\n",
       "      <td>156.0</td>\n",
       "      <td>46.7</td>\n",
       "    </tr>\n",
       "    <tr>\n",
       "      <th>4</th>\n",
       "      <td>Hike</td>\n",
       "      <td>16.0</td>\n",
       "      <td>52.1</td>\n",
       "      <td>137.4</td>\n",
       "      <td>154.0</td>\n",
       "      <td>44.7</td>\n",
       "    </tr>\n",
       "  </tbody>\n",
       "</table>\n",
       "</div>"
      ],
      "text/plain": [
       "  type_m  x_start_h  x_min  average_heartrate  max_heartrate  average_cadence\n",
       "0   Hike       16.8   42.1              127.2          161.0             42.3\n",
       "1   Hike       17.1   20.1              114.8          148.0             43.0\n",
       "2   Hike       15.7   62.1              118.6          156.0             43.5\n",
       "3   Hike       15.3   42.1              125.4          156.0             46.7\n",
       "4   Hike       16.0   52.1              137.4          154.0             44.7"
      ]
     },
     "execution_count": 3,
     "metadata": {},
     "output_type": "execute_result"
    }
   ],
   "source": [
    "activity_clean = activity[[\"type_m\", \"x_start_h\", \"x_min\", \"average_heartrate\", \"max_heartrate\", \"average_cadence\"]]\n",
    "activity_clean.head()"
   ]
  },
  {
   "cell_type": "code",
   "execution_count": 4,
   "metadata": {},
   "outputs": [
    {
     "data": {
      "text/html": [
       "<div>\n",
       "<style scoped>\n",
       "    .dataframe tbody tr th:only-of-type {\n",
       "        vertical-align: middle;\n",
       "    }\n",
       "\n",
       "    .dataframe tbody tr th {\n",
       "        vertical-align: top;\n",
       "    }\n",
       "\n",
       "    .dataframe thead th {\n",
       "        text-align: right;\n",
       "    }\n",
       "</style>\n",
       "<table border=\"1\" class=\"dataframe\">\n",
       "  <thead>\n",
       "    <tr style=\"text-align: right;\">\n",
       "      <th></th>\n",
       "      <th>type_m</th>\n",
       "      <th>x_start_h</th>\n",
       "      <th>x_min</th>\n",
       "      <th>average_heartrate</th>\n",
       "      <th>max_heartrate</th>\n",
       "      <th>average_cadence</th>\n",
       "    </tr>\n",
       "  </thead>\n",
       "  <tbody>\n",
       "    <tr>\n",
       "      <th>0</th>\n",
       "      <td>Hike</td>\n",
       "      <td>16.8</td>\n",
       "      <td>42.1</td>\n",
       "      <td>127.2</td>\n",
       "      <td>161.0</td>\n",
       "      <td>42.3</td>\n",
       "    </tr>\n",
       "    <tr>\n",
       "      <th>1</th>\n",
       "      <td>Hike</td>\n",
       "      <td>17.1</td>\n",
       "      <td>20.1</td>\n",
       "      <td>114.8</td>\n",
       "      <td>148.0</td>\n",
       "      <td>43.0</td>\n",
       "    </tr>\n",
       "    <tr>\n",
       "      <th>2</th>\n",
       "      <td>Hike</td>\n",
       "      <td>15.7</td>\n",
       "      <td>62.1</td>\n",
       "      <td>118.6</td>\n",
       "      <td>156.0</td>\n",
       "      <td>43.5</td>\n",
       "    </tr>\n",
       "    <tr>\n",
       "      <th>3</th>\n",
       "      <td>Hike</td>\n",
       "      <td>15.3</td>\n",
       "      <td>42.1</td>\n",
       "      <td>125.4</td>\n",
       "      <td>156.0</td>\n",
       "      <td>46.7</td>\n",
       "    </tr>\n",
       "    <tr>\n",
       "      <th>4</th>\n",
       "      <td>Hike</td>\n",
       "      <td>16.0</td>\n",
       "      <td>52.1</td>\n",
       "      <td>137.4</td>\n",
       "      <td>154.0</td>\n",
       "      <td>44.7</td>\n",
       "    </tr>\n",
       "  </tbody>\n",
       "</table>\n",
       "</div>"
      ],
      "text/plain": [
       "  type_m  x_start_h  x_min  average_heartrate  max_heartrate  average_cadence\n",
       "0   Hike       16.8   42.1              127.2          161.0             42.3\n",
       "1   Hike       17.1   20.1              114.8          148.0             43.0\n",
       "2   Hike       15.7   62.1              118.6          156.0             43.5\n",
       "3   Hike       15.3   42.1              125.4          156.0             46.7\n",
       "4   Hike       16.0   52.1              137.4          154.0             44.7"
      ]
     },
     "execution_count": 4,
     "metadata": {},
     "output_type": "execute_result"
    }
   ],
   "source": [
    "data2 = activity_clean.dropna()\n",
    "data2.head()"
   ]
  },
  {
   "cell_type": "code",
   "execution_count": 5,
   "metadata": {},
   "outputs": [],
   "source": [
    "target = data2[\"type_m\"]\n",
    "target_names = [\"Elliptical\", \"Hike\", \"Run\"]"
   ]
  },
  {
   "cell_type": "code",
   "execution_count": 6,
   "metadata": {},
   "outputs": [
    {
     "data": {
      "text/html": [
       "<div>\n",
       "<style scoped>\n",
       "    .dataframe tbody tr th:only-of-type {\n",
       "        vertical-align: middle;\n",
       "    }\n",
       "\n",
       "    .dataframe tbody tr th {\n",
       "        vertical-align: top;\n",
       "    }\n",
       "\n",
       "    .dataframe thead th {\n",
       "        text-align: right;\n",
       "    }\n",
       "</style>\n",
       "<table border=\"1\" class=\"dataframe\">\n",
       "  <thead>\n",
       "    <tr style=\"text-align: right;\">\n",
       "      <th></th>\n",
       "      <th>x_start_h</th>\n",
       "      <th>x_min</th>\n",
       "      <th>average_heartrate</th>\n",
       "      <th>max_heartrate</th>\n",
       "      <th>average_cadence</th>\n",
       "    </tr>\n",
       "  </thead>\n",
       "  <tbody>\n",
       "    <tr>\n",
       "      <th>0</th>\n",
       "      <td>16.8</td>\n",
       "      <td>42.1</td>\n",
       "      <td>127.2</td>\n",
       "      <td>161.0</td>\n",
       "      <td>42.3</td>\n",
       "    </tr>\n",
       "    <tr>\n",
       "      <th>1</th>\n",
       "      <td>17.1</td>\n",
       "      <td>20.1</td>\n",
       "      <td>114.8</td>\n",
       "      <td>148.0</td>\n",
       "      <td>43.0</td>\n",
       "    </tr>\n",
       "    <tr>\n",
       "      <th>2</th>\n",
       "      <td>15.7</td>\n",
       "      <td>62.1</td>\n",
       "      <td>118.6</td>\n",
       "      <td>156.0</td>\n",
       "      <td>43.5</td>\n",
       "    </tr>\n",
       "    <tr>\n",
       "      <th>3</th>\n",
       "      <td>15.3</td>\n",
       "      <td>42.1</td>\n",
       "      <td>125.4</td>\n",
       "      <td>156.0</td>\n",
       "      <td>46.7</td>\n",
       "    </tr>\n",
       "    <tr>\n",
       "      <th>4</th>\n",
       "      <td>16.0</td>\n",
       "      <td>52.1</td>\n",
       "      <td>137.4</td>\n",
       "      <td>154.0</td>\n",
       "      <td>44.7</td>\n",
       "    </tr>\n",
       "  </tbody>\n",
       "</table>\n",
       "</div>"
      ],
      "text/plain": [
       "   x_start_h  x_min  average_heartrate  max_heartrate  average_cadence\n",
       "0       16.8   42.1              127.2          161.0             42.3\n",
       "1       17.1   20.1              114.8          148.0             43.0\n",
       "2       15.7   62.1              118.6          156.0             43.5\n",
       "3       15.3   42.1              125.4          156.0             46.7\n",
       "4       16.0   52.1              137.4          154.0             44.7"
      ]
     },
     "execution_count": 6,
     "metadata": {},
     "output_type": "execute_result"
    }
   ],
   "source": [
    "data = data2.drop(\"type_m\", axis=1)\n",
    "feature_names = data.columns\n",
    "data.head()"
   ]
  },
  {
   "cell_type": "code",
   "execution_count": 7,
   "metadata": {},
   "outputs": [],
   "source": [
    "from sklearn.model_selection import train_test_split\n",
    "X_train, X_test, y_train, y_test = train_test_split(data, target, random_state=42)"
   ]
  },
  {
   "cell_type": "code",
   "execution_count": 8,
   "metadata": {},
   "outputs": [],
   "source": [
    "from sklearn.preprocessing import StandardScaler\n",
    "\n",
    "# Create a StandardScater model and fit it to the training data\n",
    "\n",
    "X_scaler = StandardScaler().fit(X_train)"
   ]
  },
  {
   "cell_type": "code",
   "execution_count": 9,
   "metadata": {},
   "outputs": [],
   "source": [
    "# Transform the training and testing data using the X_scaler and y_scaler models\n",
    "\n",
    "X_train_scaled = X_scaler.transform(X_train)\n",
    "X_test_scaled = X_scaler.transform(X_test)"
   ]
  },
  {
   "cell_type": "code",
   "execution_count": 10,
   "metadata": {},
   "outputs": [
    {
     "data": {
      "text/plain": [
       "0.9411764705882353"
      ]
     },
     "execution_count": 10,
     "metadata": {},
     "output_type": "execute_result"
    }
   ],
   "source": [
    "clf = tree.DecisionTreeClassifier()\n",
    "clf = clf.fit(X_train_scaled, y_train)\n",
    "clf.score(X_test_scaled, y_test)"
   ]
  },
  {
   "cell_type": "code",
   "execution_count": 11,
   "metadata": {},
   "outputs": [
    {
     "data": {
      "text/plain": [
       "0.9607843137254902"
      ]
     },
     "execution_count": 11,
     "metadata": {},
     "output_type": "execute_result"
    }
   ],
   "source": [
    "from sklearn.ensemble import RandomForestClassifier\n",
    "rf = RandomForestClassifier(n_estimators=200)\n",
    "rf = rf.fit(X_train_scaled, y_train)\n",
    "rf.score(X_test_scaled, y_test)"
   ]
  },
  {
   "cell_type": "code",
   "execution_count": 12,
   "metadata": {},
   "outputs": [
    {
     "name": "stdout",
     "output_type": "stream",
     "text": [
      "First 10 Predictions:   ['Run' 'Run' 'Run' 'Hike' 'Run' 'Run' 'Run' 'Run' 'Run' 'Run']\n",
      "First 10 Actual labels: ['Run', 'Run', 'Run', 'Hike', 'Run', 'Run', 'Run', 'Run', 'Run', 'Run']\n"
     ]
    }
   ],
   "source": [
    "predictions = clf.predict(X_test_scaled)\n",
    "print(f\"First 10 Predictions:   {predictions[:10]}\")\n",
    "print(f\"First 10 Actual labels: {y_test[:10].tolist()}\")"
   ]
  },
  {
   "cell_type": "code",
   "execution_count": 13,
   "metadata": {},
   "outputs": [],
   "source": [
    "from sklearn.metrics import confusion_matrix,plot_confusion_matrix\n",
    "cm = confusion_matrix(y_test,predictions)"
   ]
  },
  {
   "cell_type": "code",
   "execution_count": 19,
   "metadata": {},
   "outputs": [
    {
     "data": {
      "text/html": [
       "<div>\n",
       "<style scoped>\n",
       "    .dataframe tbody tr th:only-of-type {\n",
       "        vertical-align: middle;\n",
       "    }\n",
       "\n",
       "    .dataframe tbody tr th {\n",
       "        vertical-align: top;\n",
       "    }\n",
       "\n",
       "    .dataframe thead th {\n",
       "        text-align: right;\n",
       "    }\n",
       "</style>\n",
       "<table border=\"1\" class=\"dataframe\">\n",
       "  <thead>\n",
       "    <tr style=\"text-align: right;\">\n",
       "      <th></th>\n",
       "      <th>Prediction</th>\n",
       "      <th>Actual</th>\n",
       "    </tr>\n",
       "  </thead>\n",
       "  <tbody>\n",
       "    <tr>\n",
       "      <th>0</th>\n",
       "      <td>Run</td>\n",
       "      <td>Run</td>\n",
       "    </tr>\n",
       "    <tr>\n",
       "      <th>1</th>\n",
       "      <td>Run</td>\n",
       "      <td>Run</td>\n",
       "    </tr>\n",
       "    <tr>\n",
       "      <th>2</th>\n",
       "      <td>Run</td>\n",
       "      <td>Run</td>\n",
       "    </tr>\n",
       "    <tr>\n",
       "      <th>3</th>\n",
       "      <td>Hike</td>\n",
       "      <td>Hike</td>\n",
       "    </tr>\n",
       "    <tr>\n",
       "      <th>4</th>\n",
       "      <td>Run</td>\n",
       "      <td>Run</td>\n",
       "    </tr>\n",
       "  </tbody>\n",
       "</table>\n",
       "</div>"
      ],
      "text/plain": [
       "  Prediction Actual\n",
       "0        Run    Run\n",
       "1        Run    Run\n",
       "2        Run    Run\n",
       "3       Hike   Hike\n",
       "4        Run    Run"
      ]
     },
     "execution_count": 19,
     "metadata": {},
     "output_type": "execute_result"
    }
   ],
   "source": [
    "prediction_df = pd.DataFrame({\"Prediction\": predictions, \"Actual\": y_test}).reset_index(drop=True)\n",
    "prediction_df.head()"
   ]
  },
  {
   "cell_type": "code",
   "execution_count": 15,
   "metadata": {},
   "outputs": [
    {
     "data": {
      "text/plain": [
       "array([[11,  2,  0],\n",
       "       [ 3,  8,  0],\n",
       "       [ 1,  0, 77]], dtype=int64)"
      ]
     },
     "execution_count": 15,
     "metadata": {},
     "output_type": "execute_result"
    }
   ],
   "source": [
    "from sklearn.metrics import confusion_matrix,plot_confusion_matrix\n",
    "cm = confusion_matrix(y_test,predictions)\n",
    "cm"
   ]
  },
  {
   "cell_type": "code",
   "execution_count": 16,
   "metadata": {},
   "outputs": [
    {
     "data": {
      "text/plain": [
       "<sklearn.metrics._plot.confusion_matrix.ConfusionMatrixDisplay at 0x1b66219eb88>"
      ]
     },
     "execution_count": 16,
     "metadata": {},
     "output_type": "execute_result"
    },
    {
     "data": {
      "image/png": "[encoded data removed]",
      "text/plain": [
       "<Figure size 432x288 with 2 Axes>"
      ]
     },
     "metadata": {
      "needs_background": "light"
     },
     "output_type": "display_data"
    }
   ],
   "source": [
    "plot_confusion_matrix(clf,X_test_scaled,y_test)"
   ]
  },
  {
   "cell_type": "code",
   "execution_count": 17,
   "metadata": {},
   "outputs": [
    {
     "data": {
      "text/plain": [
       "[(0.5819852922348697, 'average_cadence'),\n",
       " (0.15971508279741156, 'average_heartrate'),\n",
       " (0.10963298168355018, 'x_start_h'),\n",
       " (0.07475864358086994, 'max_heartrate'),\n",
       " (0.07390799970329849, 'x_min')]"
      ]
     },
     "execution_count": 17,
     "metadata": {},
     "output_type": "execute_result"
    }
   ],
   "source": [
    "sorted(zip(rf.feature_importances_, feature_names), reverse=True)"
   ]
  },
  {
   "cell_type": "code",
   "execution_count": 18,
   "metadata": {},
   "outputs": [
    {
     "name": "stdout",
     "output_type": "stream",
     "text": [
      "              precision    recall  f1-score   support\n",
      "\n",
      "  Elliptical       0.73      0.85      0.79        13\n",
      "        Hike       0.80      0.73      0.76        11\n",
      "         Run       1.00      0.99      0.99        78\n",
      "\n",
      "    accuracy                           0.94       102\n",
      "   macro avg       0.84      0.85      0.85       102\n",
      "weighted avg       0.94      0.94      0.94       102\n",
      "\n"
     ]
    }
   ],
   "source": [
    "# Calculate classification report\n",
    "from sklearn.metrics import classification_report\n",
    "predictions = clf.predict(X_test_scaled)\n",
    "print(classification_report(y_test, predictions,\n",
    "                            target_names=target_names))"
   ]
  },
  {
   "cell_type": "code",
   "execution_count": null,
   "metadata": {},
   "outputs": [],
   "source": []
  }
 ],
 "metadata": {
  "kernelspec": {
   "display_name": "Python 3",
   "language": "python",
   "name": "python3"
  },
  "language_info": {
   "codemirror_mode": {
    "name": "ipython",
    "version": 3
   },
   "file_extension": ".py",
   "mimetype": "text/x-python",
   "name": "python",
   "nbconvert_exporter": "python",
   "pygments_lexer": "ipython3",
   "version": "3.7.6"
  }
 },
 "nbformat": 4,
 "nbformat_minor": 4
}
