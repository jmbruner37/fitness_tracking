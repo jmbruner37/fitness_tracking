{
 "cells": [
  {
   "cell_type": "code",
   "execution_count": 1,
   "metadata": {},
   "outputs": [],
   "source": [
    "import matplotlib.pyplot as plt\n",
    "from sklearn.neighbors import KNeighborsClassifier\n",
    "import pandas as pd\n",
    "import numpy as np\n",
    "import os"
   ]
  },
  {
   "cell_type": "code",
   "execution_count": 2,
   "metadata": {},
   "outputs": [
    {
     "data": {
      "text/html": [
       "<div>\n",
       "<style scoped>\n",
       "    .dataframe tbody tr th:only-of-type {\n",
       "        vertical-align: middle;\n",
       "    }\n",
       "\n",
       "    .dataframe tbody tr th {\n",
       "        vertical-align: top;\n",
       "    }\n",
       "\n",
       "    .dataframe thead th {\n",
       "        text-align: right;\n",
       "    }\n",
       "</style>\n",
       "<table border=\"1\" class=\"dataframe\">\n",
       "  <thead>\n",
       "    <tr style=\"text-align: right;\">\n",
       "      <th></th>\n",
       "      <th>id</th>\n",
       "      <th>type</th>\n",
       "      <th>type_m</th>\n",
       "      <th>x_gear_name</th>\n",
       "      <th>start_date_local</th>\n",
       "      <th>x_start_h</th>\n",
       "      <th>name</th>\n",
       "      <th>x_min</th>\n",
       "      <th>x_km</th>\n",
       "      <th>x_min/km</th>\n",
       "      <th>...</th>\n",
       "      <th>start_longitude</th>\n",
       "      <th>timezone</th>\n",
       "      <th>total_photo_count</th>\n",
       "      <th>trainer</th>\n",
       "      <th>upload_id</th>\n",
       "      <th>upload_id_str</th>\n",
       "      <th>utc_offset</th>\n",
       "      <th>x_date</th>\n",
       "      <th>x_elev_%</th>\n",
       "      <th>x_url</th>\n",
       "    </tr>\n",
       "  </thead>\n",
       "  <tbody>\n",
       "    <tr>\n",
       "      <th>0</th>\n",
       "      <td>2051690684</td>\n",
       "      <td>Run</td>\n",
       "      <td>Run</td>\n",
       "      <td>NaN</td>\n",
       "      <td>01.01.2019</td>\n",
       "      <td>15.6</td>\n",
       "      <td>Afternoon Run</td>\n",
       "      <td>65.5</td>\n",
       "      <td>11.425</td>\n",
       "      <td>5.73</td>\n",
       "      <td>...</td>\n",
       "      <td>-116.960523</td>\n",
       "      <td>(GMT-08:00) America/Los_Angeles</td>\n",
       "      <td>0</td>\n",
       "      <td>0</td>\n",
       "      <td>2192263908</td>\n",
       "      <td>2192263908</td>\n",
       "      <td>-28800</td>\n",
       "      <td>1/1/2019</td>\n",
       "      <td>0.43</td>\n",
       "      <td>https://www.strava.com/activities/2051690684</td>\n",
       "    </tr>\n",
       "    <tr>\n",
       "      <th>1</th>\n",
       "      <td>2974419038</td>\n",
       "      <td>Run</td>\n",
       "      <td>Hike</td>\n",
       "      <td>NaN</td>\n",
       "      <td>01.01.2020</td>\n",
       "      <td>15.4</td>\n",
       "      <td>Afternoon Run</td>\n",
       "      <td>141.5</td>\n",
       "      <td>8.585</td>\n",
       "      <td>16.49</td>\n",
       "      <td>...</td>\n",
       "      <td>-116.972282</td>\n",
       "      <td>(GMT-08:00) America/Los_Angeles</td>\n",
       "      <td>0</td>\n",
       "      <td>0</td>\n",
       "      <td>3169462081</td>\n",
       "      <td>3169462081</td>\n",
       "      <td>-28800</td>\n",
       "      <td>1/1/2020</td>\n",
       "      <td>3.98</td>\n",
       "      <td>https://www.strava.com/activities/2974419038</td>\n",
       "    </tr>\n",
       "    <tr>\n",
       "      <th>2</th>\n",
       "      <td>1432710517</td>\n",
       "      <td>Run</td>\n",
       "      <td>Run</td>\n",
       "      <td>NaN</td>\n",
       "      <td>01.03.2018</td>\n",
       "      <td>7.4</td>\n",
       "      <td>Morning Run</td>\n",
       "      <td>48.7</td>\n",
       "      <td>8.434</td>\n",
       "      <td>5.77</td>\n",
       "      <td>...</td>\n",
       "      <td>-116.960436</td>\n",
       "      <td>(GMT-08:00) America/Los_Angeles</td>\n",
       "      <td>0</td>\n",
       "      <td>0</td>\n",
       "      <td>1545662477</td>\n",
       "      <td>1545662477</td>\n",
       "      <td>-28800</td>\n",
       "      <td>3/1/2018</td>\n",
       "      <td>0.96</td>\n",
       "      <td>https://www.strava.com/activities/1432710517</td>\n",
       "    </tr>\n",
       "    <tr>\n",
       "      <th>3</th>\n",
       "      <td>923785050</td>\n",
       "      <td>Run</td>\n",
       "      <td>Run</td>\n",
       "      <td>NaN</td>\n",
       "      <td>01.04.2017</td>\n",
       "      <td>6.8</td>\n",
       "      <td>Morning Run</td>\n",
       "      <td>172.2</td>\n",
       "      <td>32.301</td>\n",
       "      <td>5.33</td>\n",
       "      <td>...</td>\n",
       "      <td>-117.255867</td>\n",
       "      <td>(GMT-08:00) America/Los_Angeles</td>\n",
       "      <td>0</td>\n",
       "      <td>0</td>\n",
       "      <td>1023629735</td>\n",
       "      <td>1023629735</td>\n",
       "      <td>-25200</td>\n",
       "      <td>4/1/2017</td>\n",
       "      <td>0.86</td>\n",
       "      <td>https://www.strava.com/activities/923785050</td>\n",
       "    </tr>\n",
       "    <tr>\n",
       "      <th>4</th>\n",
       "      <td>1016023574</td>\n",
       "      <td>Run</td>\n",
       "      <td>Run</td>\n",
       "      <td>NaN</td>\n",
       "      <td>01.06.2017</td>\n",
       "      <td>6.4</td>\n",
       "      <td>Morning Run</td>\n",
       "      <td>82.4</td>\n",
       "      <td>16.159</td>\n",
       "      <td>5.10</td>\n",
       "      <td>...</td>\n",
       "      <td>-116.959949</td>\n",
       "      <td>(GMT-08:00) America/Los_Angeles</td>\n",
       "      <td>0</td>\n",
       "      <td>0</td>\n",
       "      <td>1118724262</td>\n",
       "      <td>1118724262</td>\n",
       "      <td>-25200</td>\n",
       "      <td>6/1/2017</td>\n",
       "      <td>0.83</td>\n",
       "      <td>https://www.strava.com/activities/1016023574</td>\n",
       "    </tr>\n",
       "  </tbody>\n",
       "</table>\n",
       "<p>5 rows × 74 columns</p>\n",
       "</div>"
      ],
      "text/plain": [
       "           id type type_m  x_gear_name start_date_local  x_start_h  \\\n",
       "0  2051690684  Run    Run          NaN       01.01.2019       15.6   \n",
       "1  2974419038  Run   Hike          NaN       01.01.2020       15.4   \n",
       "2  1432710517  Run    Run          NaN       01.03.2018        7.4   \n",
       "3   923785050  Run    Run          NaN       01.04.2017        6.8   \n",
       "4  1016023574  Run    Run          NaN       01.06.2017        6.4   \n",
       "\n",
       "            name  x_min    x_km  x_min/km  ...  start_longitude  \\\n",
       "0  Afternoon Run   65.5  11.425      5.73  ...      -116.960523   \n",
       "1  Afternoon Run  141.5   8.585     16.49  ...      -116.972282   \n",
       "2    Morning Run   48.7   8.434      5.77  ...      -116.960436   \n",
       "3    Morning Run  172.2  32.301      5.33  ...      -117.255867   \n",
       "4    Morning Run   82.4  16.159      5.10  ...      -116.959949   \n",
       "\n",
       "                          timezone  total_photo_count  trainer   upload_id  \\\n",
       "0  (GMT-08:00) America/Los_Angeles                  0        0  2192263908   \n",
       "1  (GMT-08:00) America/Los_Angeles                  0        0  3169462081   \n",
       "2  (GMT-08:00) America/Los_Angeles                  0        0  1545662477   \n",
       "3  (GMT-08:00) America/Los_Angeles                  0        0  1023629735   \n",
       "4  (GMT-08:00) America/Los_Angeles                  0        0  1118724262   \n",
       "\n",
       "   upload_id_str  utc_offset    x_date  x_elev_%  \\\n",
       "0     2192263908      -28800  1/1/2019      0.43   \n",
       "1     3169462081      -28800  1/1/2020      3.98   \n",
       "2     1545662477      -28800  3/1/2018      0.96   \n",
       "3     1023629735      -25200  4/1/2017      0.86   \n",
       "4     1118724262      -25200  6/1/2017      0.83   \n",
       "\n",
       "                                          x_url  \n",
       "0  https://www.strava.com/activities/2051690684  \n",
       "1  https://www.strava.com/activities/2974419038  \n",
       "2  https://www.strava.com/activities/1432710517  \n",
       "3   https://www.strava.com/activities/923785050  \n",
       "4  https://www.strava.com/activities/1016023574  \n",
       "\n",
       "[5 rows x 74 columns]"
      ]
     },
     "execution_count": 2,
     "metadata": {},
     "output_type": "execute_result"
    }
   ],
   "source": [
    "activity = pd.read_csv(os.path.join('andrew_data2.csv'))\n",
    "activity.head()"
   ]
  },
  {
   "cell_type": "code",
   "execution_count": 3,
   "metadata": {},
   "outputs": [
    {
     "data": {
      "text/html": [
       "<div>\n",
       "<style scoped>\n",
       "    .dataframe tbody tr th:only-of-type {\n",
       "        vertical-align: middle;\n",
       "    }\n",
       "\n",
       "    .dataframe tbody tr th {\n",
       "        vertical-align: top;\n",
       "    }\n",
       "\n",
       "    .dataframe thead th {\n",
       "        text-align: right;\n",
       "    }\n",
       "</style>\n",
       "<table border=\"1\" class=\"dataframe\">\n",
       "  <thead>\n",
       "    <tr style=\"text-align: right;\">\n",
       "      <th></th>\n",
       "      <th>type_m</th>\n",
       "      <th>x_start_h</th>\n",
       "      <th>x_min</th>\n",
       "      <th>average_heartrate</th>\n",
       "      <th>max_heartrate</th>\n",
       "      <th>average_cadence</th>\n",
       "    </tr>\n",
       "  </thead>\n",
       "  <tbody>\n",
       "    <tr>\n",
       "      <th>0</th>\n",
       "      <td>Run</td>\n",
       "      <td>15.6</td>\n",
       "      <td>65.5</td>\n",
       "      <td>NaN</td>\n",
       "      <td>NaN</td>\n",
       "      <td>83.6</td>\n",
       "    </tr>\n",
       "    <tr>\n",
       "      <th>1</th>\n",
       "      <td>Hike</td>\n",
       "      <td>15.4</td>\n",
       "      <td>141.5</td>\n",
       "      <td>95.0</td>\n",
       "      <td>124.0</td>\n",
       "      <td>53.2</td>\n",
       "    </tr>\n",
       "    <tr>\n",
       "      <th>2</th>\n",
       "      <td>Run</td>\n",
       "      <td>7.4</td>\n",
       "      <td>48.7</td>\n",
       "      <td>151.7</td>\n",
       "      <td>186.0</td>\n",
       "      <td>84.2</td>\n",
       "    </tr>\n",
       "    <tr>\n",
       "      <th>3</th>\n",
       "      <td>Run</td>\n",
       "      <td>6.8</td>\n",
       "      <td>172.2</td>\n",
       "      <td>156.5</td>\n",
       "      <td>193.0</td>\n",
       "      <td>84.4</td>\n",
       "    </tr>\n",
       "    <tr>\n",
       "      <th>4</th>\n",
       "      <td>Run</td>\n",
       "      <td>6.4</td>\n",
       "      <td>82.4</td>\n",
       "      <td>158.2</td>\n",
       "      <td>183.0</td>\n",
       "      <td>86.1</td>\n",
       "    </tr>\n",
       "  </tbody>\n",
       "</table>\n",
       "</div>"
      ],
      "text/plain": [
       "  type_m  x_start_h  x_min  average_heartrate  max_heartrate  average_cadence\n",
       "0    Run       15.6   65.5                NaN            NaN             83.6\n",
       "1   Hike       15.4  141.5               95.0          124.0             53.2\n",
       "2    Run        7.4   48.7              151.7          186.0             84.2\n",
       "3    Run        6.8  172.2              156.5          193.0             84.4\n",
       "4    Run        6.4   82.4              158.2          183.0             86.1"
      ]
     },
     "execution_count": 3,
     "metadata": {},
     "output_type": "execute_result"
    }
   ],
   "source": [
    "activity_clean = activity[[\"type_m\", \"x_start_h\", \"x_min\", \"average_heartrate\", \"max_heartrate\", \"average_cadence\"]]\n",
    "activity_clean.head()"
   ]
  },
  {
   "cell_type": "code",
   "execution_count": 4,
   "metadata": {},
   "outputs": [
    {
     "data": {
      "text/html": [
       "<div>\n",
       "<style scoped>\n",
       "    .dataframe tbody tr th:only-of-type {\n",
       "        vertical-align: middle;\n",
       "    }\n",
       "\n",
       "    .dataframe tbody tr th {\n",
       "        vertical-align: top;\n",
       "    }\n",
       "\n",
       "    .dataframe thead th {\n",
       "        text-align: right;\n",
       "    }\n",
       "</style>\n",
       "<table border=\"1\" class=\"dataframe\">\n",
       "  <thead>\n",
       "    <tr style=\"text-align: right;\">\n",
       "      <th></th>\n",
       "      <th>type_m</th>\n",
       "      <th>x_start_h</th>\n",
       "      <th>x_min</th>\n",
       "      <th>average_heartrate</th>\n",
       "      <th>max_heartrate</th>\n",
       "      <th>average_cadence</th>\n",
       "    </tr>\n",
       "  </thead>\n",
       "  <tbody>\n",
       "    <tr>\n",
       "      <th>1</th>\n",
       "      <td>Hike</td>\n",
       "      <td>15.4</td>\n",
       "      <td>141.5</td>\n",
       "      <td>95.0</td>\n",
       "      <td>124.0</td>\n",
       "      <td>53.2</td>\n",
       "    </tr>\n",
       "    <tr>\n",
       "      <th>2</th>\n",
       "      <td>Run</td>\n",
       "      <td>7.4</td>\n",
       "      <td>48.7</td>\n",
       "      <td>151.7</td>\n",
       "      <td>186.0</td>\n",
       "      <td>84.2</td>\n",
       "    </tr>\n",
       "    <tr>\n",
       "      <th>3</th>\n",
       "      <td>Run</td>\n",
       "      <td>6.8</td>\n",
       "      <td>172.2</td>\n",
       "      <td>156.5</td>\n",
       "      <td>193.0</td>\n",
       "      <td>84.4</td>\n",
       "    </tr>\n",
       "    <tr>\n",
       "      <th>4</th>\n",
       "      <td>Run</td>\n",
       "      <td>6.4</td>\n",
       "      <td>82.4</td>\n",
       "      <td>158.2</td>\n",
       "      <td>183.0</td>\n",
       "      <td>86.1</td>\n",
       "    </tr>\n",
       "    <tr>\n",
       "      <th>5</th>\n",
       "      <td>Run</td>\n",
       "      <td>8.1</td>\n",
       "      <td>20.1</td>\n",
       "      <td>141.4</td>\n",
       "      <td>169.0</td>\n",
       "      <td>85.8</td>\n",
       "    </tr>\n",
       "  </tbody>\n",
       "</table>\n",
       "</div>"
      ],
      "text/plain": [
       "  type_m  x_start_h  x_min  average_heartrate  max_heartrate  average_cadence\n",
       "1   Hike       15.4  141.5               95.0          124.0             53.2\n",
       "2    Run        7.4   48.7              151.7          186.0             84.2\n",
       "3    Run        6.8  172.2              156.5          193.0             84.4\n",
       "4    Run        6.4   82.4              158.2          183.0             86.1\n",
       "5    Run        8.1   20.1              141.4          169.0             85.8"
      ]
     },
     "execution_count": 4,
     "metadata": {},
     "output_type": "execute_result"
    }
   ],
   "source": [
    "data2 = activity_clean.dropna()\n",
    "data2.head()"
   ]
  },
  {
   "cell_type": "code",
   "execution_count": 5,
   "metadata": {},
   "outputs": [],
   "source": [
    "y = data2[\"type_m\"]\n",
    "target_names = [\"Elliptical\", \"Hike\", \"Run\"]"
   ]
  },
  {
   "cell_type": "code",
   "execution_count": 6,
   "metadata": {},
   "outputs": [
    {
     "data": {
      "text/html": [
       "<div>\n",
       "<style scoped>\n",
       "    .dataframe tbody tr th:only-of-type {\n",
       "        vertical-align: middle;\n",
       "    }\n",
       "\n",
       "    .dataframe tbody tr th {\n",
       "        vertical-align: top;\n",
       "    }\n",
       "\n",
       "    .dataframe thead th {\n",
       "        text-align: right;\n",
       "    }\n",
       "</style>\n",
       "<table border=\"1\" class=\"dataframe\">\n",
       "  <thead>\n",
       "    <tr style=\"text-align: right;\">\n",
       "      <th></th>\n",
       "      <th>x_start_h</th>\n",
       "      <th>x_min</th>\n",
       "      <th>average_heartrate</th>\n",
       "      <th>max_heartrate</th>\n",
       "      <th>average_cadence</th>\n",
       "    </tr>\n",
       "  </thead>\n",
       "  <tbody>\n",
       "    <tr>\n",
       "      <th>1</th>\n",
       "      <td>15.4</td>\n",
       "      <td>141.5</td>\n",
       "      <td>95.0</td>\n",
       "      <td>124.0</td>\n",
       "      <td>53.2</td>\n",
       "    </tr>\n",
       "    <tr>\n",
       "      <th>2</th>\n",
       "      <td>7.4</td>\n",
       "      <td>48.7</td>\n",
       "      <td>151.7</td>\n",
       "      <td>186.0</td>\n",
       "      <td>84.2</td>\n",
       "    </tr>\n",
       "    <tr>\n",
       "      <th>3</th>\n",
       "      <td>6.8</td>\n",
       "      <td>172.2</td>\n",
       "      <td>156.5</td>\n",
       "      <td>193.0</td>\n",
       "      <td>84.4</td>\n",
       "    </tr>\n",
       "    <tr>\n",
       "      <th>4</th>\n",
       "      <td>6.4</td>\n",
       "      <td>82.4</td>\n",
       "      <td>158.2</td>\n",
       "      <td>183.0</td>\n",
       "      <td>86.1</td>\n",
       "    </tr>\n",
       "    <tr>\n",
       "      <th>5</th>\n",
       "      <td>8.1</td>\n",
       "      <td>20.1</td>\n",
       "      <td>141.4</td>\n",
       "      <td>169.0</td>\n",
       "      <td>85.8</td>\n",
       "    </tr>\n",
       "  </tbody>\n",
       "</table>\n",
       "</div>"
      ],
      "text/plain": [
       "   x_start_h  x_min  average_heartrate  max_heartrate  average_cadence\n",
       "1       15.4  141.5               95.0          124.0             53.2\n",
       "2        7.4   48.7              151.7          186.0             84.2\n",
       "3        6.8  172.2              156.5          193.0             84.4\n",
       "4        6.4   82.4              158.2          183.0             86.1\n",
       "5        8.1   20.1              141.4          169.0             85.8"
      ]
     },
     "execution_count": 6,
     "metadata": {},
     "output_type": "execute_result"
    }
   ],
   "source": [
    "X = data2.drop(\"type_m\", axis=1)\n",
    "X.head()"
   ]
  },
  {
   "cell_type": "code",
   "execution_count": 7,
   "metadata": {},
   "outputs": [],
   "source": [
    "from sklearn.model_selection import train_test_split\n",
    "X_train, X_test, y_train, y_test = train_test_split(X, y, random_state=42)"
   ]
  },
  {
   "cell_type": "code",
   "execution_count": 8,
   "metadata": {},
   "outputs": [],
   "source": [
    "from sklearn.preprocessing import StandardScaler\n",
    "\n",
    "# Create a StandardScater model and fit it to the training data\n",
    "\n",
    "X_scaler = StandardScaler().fit(X_train)"
   ]
  },
  {
   "cell_type": "code",
   "execution_count": 9,
   "metadata": {},
   "outputs": [],
   "source": [
    "# Transform the training and testing data using the X_scaler and y_scaler models\n",
    "\n",
    "X_train_scaled = X_scaler.transform(X_train)\n",
    "X_test_scaled = X_scaler.transform(X_test)"
   ]
  },
  {
   "cell_type": "code",
   "execution_count": 10,
   "metadata": {},
   "outputs": [
    {
     "data": {
      "text/plain": [
       "SVC(C=1.0, break_ties=False, cache_size=200, class_weight=None, coef0=0.0,\n",
       "    decision_function_shape='ovr', degree=3, gamma='scale', kernel='linear',\n",
       "    max_iter=-1, probability=False, random_state=None, shrinking=True,\n",
       "    tol=0.001, verbose=False)"
      ]
     },
     "execution_count": 10,
     "metadata": {},
     "output_type": "execute_result"
    }
   ],
   "source": [
    "# Support vector machine linear classifier\n",
    "from sklearn.svm import SVC \n",
    "model = SVC(kernel='linear')\n",
    "model.fit(X_train_scaled, y_train)"
   ]
  },
  {
   "cell_type": "code",
   "execution_count": 11,
   "metadata": {},
   "outputs": [
    {
     "name": "stdout",
     "output_type": "stream",
     "text": [
      "Test Acc: 0.954\n"
     ]
    }
   ],
   "source": [
    "print('Test Acc: %.3f' % model.score(X_train_scaled, y_train))"
   ]
  },
  {
   "cell_type": "code",
   "execution_count": 12,
   "metadata": {},
   "outputs": [
    {
     "name": "stdout",
     "output_type": "stream",
     "text": [
      "Test Acc: 0.961\n"
     ]
    }
   ],
   "source": [
    "print('Test Acc: %.3f' % model.score(X_test_scaled, y_test))"
   ]
  },
  {
   "cell_type": "code",
   "execution_count": 13,
   "metadata": {},
   "outputs": [
    {
     "name": "stdout",
     "output_type": "stream",
     "text": [
      "              precision    recall  f1-score   support\n",
      "\n",
      "  Elliptical       1.00      0.75      0.86        12\n",
      "        Hike       0.76      1.00      0.87        13\n",
      "         Run       1.00      0.99      0.99        77\n",
      "\n",
      "    accuracy                           0.96       102\n",
      "   macro avg       0.92      0.91      0.91       102\n",
      "weighted avg       0.97      0.96      0.96       102\n",
      "\n"
     ]
    }
   ],
   "source": [
    "# Calculate classification report\n",
    "from sklearn.metrics import classification_report\n",
    "predictions = model.predict(X_test_scaled)\n",
    "print(classification_report(y_test, predictions,\n",
    "                            target_names=target_names))"
   ]
  },
  {
   "cell_type": "code",
   "execution_count": 14,
   "metadata": {},
   "outputs": [
    {
     "data": {
      "text/plain": [
       "array([[ 9,  3,  0],\n",
       "       [ 0, 13,  0],\n",
       "       [ 0,  1, 76]], dtype=int64)"
      ]
     },
     "execution_count": 14,
     "metadata": {},
     "output_type": "execute_result"
    }
   ],
   "source": [
    "from sklearn.metrics import confusion_matrix,plot_confusion_matrix\n",
    "cm = confusion_matrix(y_test,predictions)\n",
    "cm"
   ]
  },
  {
   "cell_type": "code",
   "execution_count": 15,
   "metadata": {},
   "outputs": [
    {
     "data": {
      "image/png": "[encoded data removed]",
      "text/plain": [
       "<Figure size 432x288 with 2 Axes>"
      ]
     },
     "metadata": {
      "needs_background": "light"
     },
     "output_type": "display_data"
    }
   ],
   "source": [
    "cmfig = plot_confusion_matrix(model,X_test_scaled,y_test)"
   ]
  },
  {
   "cell_type": "code",
   "execution_count": null,
   "metadata": {},
   "outputs": [],
   "source": []
  }
 ],
 "metadata": {
  "kernelspec": {
   "display_name": "Python 3",
   "language": "python",
   "name": "python3"
  },
  "language_info": {
   "codemirror_mode": {
    "name": "ipython",
    "version": 3
   },
   "file_extension": ".py",
   "mimetype": "text/x-python",
   "name": "python",
   "nbconvert_exporter": "python",
   "pygments_lexer": "ipython3",
   "version": "3.7.6"
  }
 },
 "nbformat": 4,
 "nbformat_minor": 4
}
