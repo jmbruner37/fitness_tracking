{
 "cells": [
  {
   "cell_type": "code",
   "execution_count": 195,
   "metadata": {},
   "outputs": [],
   "source": [
    "from numpy.random import seed\n",
    "seed(1)"
   ]
  },
  {
   "cell_type": "code",
   "execution_count": 196,
   "metadata": {},
   "outputs": [],
   "source": [
    "# Dependencies\n",
    "import numpy as np\n",
    "import pandas as pd\n",
    "import tensorflow\n",
    "tensorflow.keras.__version__\n",
    "from matplotlib import pyplot\n",
    "from keras.layers import Dense\n",
    "\n",
    "from sklearn.metrics import accuracy_score\n",
    "from sklearn.metrics import precision_score\n",
    "from sklearn.metrics import recall_score\n",
    "from sklearn.metrics import f1_score\n",
    "from sklearn.metrics import cohen_kappa_score\n",
    "from sklearn.metrics import roc_auc_score\n",
    "from sklearn.metrics import confusion_matrix,plot_confusion_matrix\n",
    "\n",
    "from sklearn.model_selection import train_test_split\n",
    "from sklearn.preprocessing import LabelEncoder, MinMaxScaler\n",
    "from tensorflow.keras.utils import to_categorical\n",
    "import os"
   ]
  },
  {
   "cell_type": "code",
   "execution_count": 197,
   "metadata": {
    "scrolled": true
   },
   "outputs": [
    {
     "data": {
      "text/html": [
       "<div>\n",
       "<style scoped>\n",
       "    .dataframe tbody tr th:only-of-type {\n",
       "        vertical-align: middle;\n",
       "    }\n",
       "\n",
       "    .dataframe tbody tr th {\n",
       "        vertical-align: top;\n",
       "    }\n",
       "\n",
       "    .dataframe thead th {\n",
       "        text-align: right;\n",
       "    }\n",
       "</style>\n",
       "<table border=\"1\" class=\"dataframe\">\n",
       "  <thead>\n",
       "    <tr style=\"text-align: right;\">\n",
       "      <th></th>\n",
       "      <th>id</th>\n",
       "      <th>type</th>\n",
       "      <th>type_m</th>\n",
       "      <th>x_gear_name</th>\n",
       "      <th>start_date_local</th>\n",
       "      <th>x_start_h</th>\n",
       "      <th>name</th>\n",
       "      <th>x_min</th>\n",
       "      <th>x_km</th>\n",
       "      <th>x_min/km</th>\n",
       "      <th>...</th>\n",
       "      <th>start_longitude</th>\n",
       "      <th>timezone</th>\n",
       "      <th>total_photo_count</th>\n",
       "      <th>trainer</th>\n",
       "      <th>upload_id</th>\n",
       "      <th>upload_id_str</th>\n",
       "      <th>utc_offset</th>\n",
       "      <th>x_date</th>\n",
       "      <th>x_elev_%</th>\n",
       "      <th>x_url</th>\n",
       "    </tr>\n",
       "  </thead>\n",
       "  <tbody>\n",
       "    <tr>\n",
       "      <th>0</th>\n",
       "      <td>2850013230</td>\n",
       "      <td>Run</td>\n",
       "      <td>Hike</td>\n",
       "      <td>NaN</td>\n",
       "      <td>07.11.2019 16:46:32</td>\n",
       "      <td>16.8</td>\n",
       "      <td>Afternoon Run</td>\n",
       "      <td>42.1</td>\n",
       "      <td>0.458</td>\n",
       "      <td>92.08</td>\n",
       "      <td>...</td>\n",
       "      <td>NaN</td>\n",
       "      <td>(GMT-08:00) America/Los_Angeles</td>\n",
       "      <td>0</td>\n",
       "      <td>1</td>\n",
       "      <td>3022102505</td>\n",
       "      <td>3022102505</td>\n",
       "      <td>-28800</td>\n",
       "      <td>2019-11-07</td>\n",
       "      <td>NaN</td>\n",
       "      <td>https://www.strava.com/activities/2850013230</td>\n",
       "    </tr>\n",
       "    <tr>\n",
       "      <th>1</th>\n",
       "      <td>2895327719</td>\n",
       "      <td>Run</td>\n",
       "      <td>Hike</td>\n",
       "      <td>NaN</td>\n",
       "      <td>22.11.2019 17:05:04</td>\n",
       "      <td>17.1</td>\n",
       "      <td>Afternoon Run</td>\n",
       "      <td>20.1</td>\n",
       "      <td>0.234</td>\n",
       "      <td>85.91</td>\n",
       "      <td>...</td>\n",
       "      <td>NaN</td>\n",
       "      <td>(GMT-08:00) America/Los_Angeles</td>\n",
       "      <td>0</td>\n",
       "      <td>1</td>\n",
       "      <td>3077242534</td>\n",
       "      <td>3077242534</td>\n",
       "      <td>-28800</td>\n",
       "      <td>2019-11-22</td>\n",
       "      <td>NaN</td>\n",
       "      <td>https://www.strava.com/activities/2895327719</td>\n",
       "    </tr>\n",
       "    <tr>\n",
       "      <th>2</th>\n",
       "      <td>2832492215</td>\n",
       "      <td>Run</td>\n",
       "      <td>Hike</td>\n",
       "      <td>NaN</td>\n",
       "      <td>31.10.2019 15:41:16</td>\n",
       "      <td>15.7</td>\n",
       "      <td>Afternoon Run</td>\n",
       "      <td>62.1</td>\n",
       "      <td>0.870</td>\n",
       "      <td>71.53</td>\n",
       "      <td>...</td>\n",
       "      <td>NaN</td>\n",
       "      <td>(GMT-08:00) America/Los_Angeles</td>\n",
       "      <td>0</td>\n",
       "      <td>1</td>\n",
       "      <td>3002283821</td>\n",
       "      <td>3002283821</td>\n",
       "      <td>-25200</td>\n",
       "      <td>2019-10-31</td>\n",
       "      <td>NaN</td>\n",
       "      <td>https://www.strava.com/activities/2832492215</td>\n",
       "    </tr>\n",
       "    <tr>\n",
       "      <th>3</th>\n",
       "      <td>2832492192</td>\n",
       "      <td>Run</td>\n",
       "      <td>Hike</td>\n",
       "      <td>NaN</td>\n",
       "      <td>28.10.2019 15:17:05</td>\n",
       "      <td>15.3</td>\n",
       "      <td>Afternoon Run</td>\n",
       "      <td>42.1</td>\n",
       "      <td>0.686</td>\n",
       "      <td>61.27</td>\n",
       "      <td>...</td>\n",
       "      <td>NaN</td>\n",
       "      <td>(GMT-08:00) America/Los_Angeles</td>\n",
       "      <td>0</td>\n",
       "      <td>1</td>\n",
       "      <td>3002283809</td>\n",
       "      <td>3002283809</td>\n",
       "      <td>-25200</td>\n",
       "      <td>2019-10-28</td>\n",
       "      <td>NaN</td>\n",
       "      <td>https://www.strava.com/activities/2832492192</td>\n",
       "    </tr>\n",
       "    <tr>\n",
       "      <th>4</th>\n",
       "      <td>2877878037</td>\n",
       "      <td>Run</td>\n",
       "      <td>Hike</td>\n",
       "      <td>NaN</td>\n",
       "      <td>18.11.2019 16:00:16</td>\n",
       "      <td>16.0</td>\n",
       "      <td>Afternoon Run</td>\n",
       "      <td>52.1</td>\n",
       "      <td>0.907</td>\n",
       "      <td>57.47</td>\n",
       "      <td>...</td>\n",
       "      <td>NaN</td>\n",
       "      <td>(GMT-08:00) America/Los_Angeles</td>\n",
       "      <td>0</td>\n",
       "      <td>1</td>\n",
       "      <td>3055046850</td>\n",
       "      <td>3055046850</td>\n",
       "      <td>-28800</td>\n",
       "      <td>2019-11-18</td>\n",
       "      <td>NaN</td>\n",
       "      <td>https://www.strava.com/activities/2877878037</td>\n",
       "    </tr>\n",
       "  </tbody>\n",
       "</table>\n",
       "<p>5 rows × 74 columns</p>\n",
       "</div>"
      ],
      "text/plain": [
       "           id type type_m  x_gear_name     start_date_local  x_start_h  \\\n",
       "0  2850013230  Run   Hike          NaN  07.11.2019 16:46:32       16.8   \n",
       "1  2895327719  Run   Hike          NaN  22.11.2019 17:05:04       17.1   \n",
       "2  2832492215  Run   Hike          NaN  31.10.2019 15:41:16       15.7   \n",
       "3  2832492192  Run   Hike          NaN  28.10.2019 15:17:05       15.3   \n",
       "4  2877878037  Run   Hike          NaN  18.11.2019 16:00:16       16.0   \n",
       "\n",
       "            name  x_min   x_km  x_min/km  ...  start_longitude  \\\n",
       "0  Afternoon Run   42.1  0.458     92.08  ...              NaN   \n",
       "1  Afternoon Run   20.1  0.234     85.91  ...              NaN   \n",
       "2  Afternoon Run   62.1  0.870     71.53  ...              NaN   \n",
       "3  Afternoon Run   42.1  0.686     61.27  ...              NaN   \n",
       "4  Afternoon Run   52.1  0.907     57.47  ...              NaN   \n",
       "\n",
       "                          timezone  total_photo_count  trainer   upload_id  \\\n",
       "0  (GMT-08:00) America/Los_Angeles                  0        1  3022102505   \n",
       "1  (GMT-08:00) America/Los_Angeles                  0        1  3077242534   \n",
       "2  (GMT-08:00) America/Los_Angeles                  0        1  3002283821   \n",
       "3  (GMT-08:00) America/Los_Angeles                  0        1  3002283809   \n",
       "4  (GMT-08:00) America/Los_Angeles                  0        1  3055046850   \n",
       "\n",
       "   upload_id_str  utc_offset      x_date  x_elev_%  \\\n",
       "0     3022102505      -28800  2019-11-07       NaN   \n",
       "1     3077242534      -28800  2019-11-22       NaN   \n",
       "2     3002283821      -25200  2019-10-31       NaN   \n",
       "3     3002283809      -25200  2019-10-28       NaN   \n",
       "4     3055046850      -28800  2019-11-18       NaN   \n",
       "\n",
       "                                          x_url  \n",
       "0  https://www.strava.com/activities/2850013230  \n",
       "1  https://www.strava.com/activities/2895327719  \n",
       "2  https://www.strava.com/activities/2832492215  \n",
       "3  https://www.strava.com/activities/2832492192  \n",
       "4  https://www.strava.com/activities/2877878037  \n",
       "\n",
       "[5 rows x 74 columns]"
      ]
     },
     "execution_count": 197,
     "metadata": {},
     "output_type": "execute_result"
    }
   ],
   "source": [
    "activity = pd.read_csv(os.path.join('andrew_data2.csv'))\n",
    "activity.head()"
   ]
  },
  {
   "cell_type": "code",
   "execution_count": 198,
   "metadata": {},
   "outputs": [
    {
     "data": {
      "text/html": [
       "<div>\n",
       "<style scoped>\n",
       "    .dataframe tbody tr th:only-of-type {\n",
       "        vertical-align: middle;\n",
       "    }\n",
       "\n",
       "    .dataframe tbody tr th {\n",
       "        vertical-align: top;\n",
       "    }\n",
       "\n",
       "    .dataframe thead th {\n",
       "        text-align: right;\n",
       "    }\n",
       "</style>\n",
       "<table border=\"1\" class=\"dataframe\">\n",
       "  <thead>\n",
       "    <tr style=\"text-align: right;\">\n",
       "      <th></th>\n",
       "      <th>type_m</th>\n",
       "      <th>x_start_h</th>\n",
       "      <th>x_min</th>\n",
       "      <th>average_heartrate</th>\n",
       "      <th>max_heartrate</th>\n",
       "      <th>average_cadence</th>\n",
       "    </tr>\n",
       "  </thead>\n",
       "  <tbody>\n",
       "    <tr>\n",
       "      <th>0</th>\n",
       "      <td>Hike</td>\n",
       "      <td>16.8</td>\n",
       "      <td>42.1</td>\n",
       "      <td>127.2</td>\n",
       "      <td>161.0</td>\n",
       "      <td>42.3</td>\n",
       "    </tr>\n",
       "    <tr>\n",
       "      <th>1</th>\n",
       "      <td>Hike</td>\n",
       "      <td>17.1</td>\n",
       "      <td>20.1</td>\n",
       "      <td>114.8</td>\n",
       "      <td>148.0</td>\n",
       "      <td>43.0</td>\n",
       "    </tr>\n",
       "    <tr>\n",
       "      <th>2</th>\n",
       "      <td>Hike</td>\n",
       "      <td>15.7</td>\n",
       "      <td>62.1</td>\n",
       "      <td>118.6</td>\n",
       "      <td>156.0</td>\n",
       "      <td>43.5</td>\n",
       "    </tr>\n",
       "    <tr>\n",
       "      <th>3</th>\n",
       "      <td>Hike</td>\n",
       "      <td>15.3</td>\n",
       "      <td>42.1</td>\n",
       "      <td>125.4</td>\n",
       "      <td>156.0</td>\n",
       "      <td>46.7</td>\n",
       "    </tr>\n",
       "    <tr>\n",
       "      <th>4</th>\n",
       "      <td>Hike</td>\n",
       "      <td>16.0</td>\n",
       "      <td>52.1</td>\n",
       "      <td>137.4</td>\n",
       "      <td>154.0</td>\n",
       "      <td>44.7</td>\n",
       "    </tr>\n",
       "  </tbody>\n",
       "</table>\n",
       "</div>"
      ],
      "text/plain": [
       "  type_m  x_start_h  x_min  average_heartrate  max_heartrate  average_cadence\n",
       "0   Hike       16.8   42.1              127.2          161.0             42.3\n",
       "1   Hike       17.1   20.1              114.8          148.0             43.0\n",
       "2   Hike       15.7   62.1              118.6          156.0             43.5\n",
       "3   Hike       15.3   42.1              125.4          156.0             46.7\n",
       "4   Hike       16.0   52.1              137.4          154.0             44.7"
      ]
     },
     "execution_count": 198,
     "metadata": {},
     "output_type": "execute_result"
    }
   ],
   "source": [
    "activity_clean = activity[[\"type_m\", \"x_start_h\", \"x_min\", \"average_heartrate\", \"max_heartrate\", \"average_cadence\"]]\n",
    "activity_clean.head()"
   ]
  },
  {
   "cell_type": "code",
   "execution_count": 199,
   "metadata": {},
   "outputs": [
    {
     "data": {
      "text/html": [
       "<div>\n",
       "<style scoped>\n",
       "    .dataframe tbody tr th:only-of-type {\n",
       "        vertical-align: middle;\n",
       "    }\n",
       "\n",
       "    .dataframe tbody tr th {\n",
       "        vertical-align: top;\n",
       "    }\n",
       "\n",
       "    .dataframe thead th {\n",
       "        text-align: right;\n",
       "    }\n",
       "</style>\n",
       "<table border=\"1\" class=\"dataframe\">\n",
       "  <thead>\n",
       "    <tr style=\"text-align: right;\">\n",
       "      <th></th>\n",
       "      <th>type_m</th>\n",
       "      <th>x_start_h</th>\n",
       "      <th>x_min</th>\n",
       "      <th>average_heartrate</th>\n",
       "      <th>max_heartrate</th>\n",
       "      <th>average_cadence</th>\n",
       "    </tr>\n",
       "  </thead>\n",
       "  <tbody>\n",
       "    <tr>\n",
       "      <th>0</th>\n",
       "      <td>Hike</td>\n",
       "      <td>16.8</td>\n",
       "      <td>42.1</td>\n",
       "      <td>127.2</td>\n",
       "      <td>161.0</td>\n",
       "      <td>42.3</td>\n",
       "    </tr>\n",
       "    <tr>\n",
       "      <th>1</th>\n",
       "      <td>Hike</td>\n",
       "      <td>17.1</td>\n",
       "      <td>20.1</td>\n",
       "      <td>114.8</td>\n",
       "      <td>148.0</td>\n",
       "      <td>43.0</td>\n",
       "    </tr>\n",
       "    <tr>\n",
       "      <th>2</th>\n",
       "      <td>Hike</td>\n",
       "      <td>15.7</td>\n",
       "      <td>62.1</td>\n",
       "      <td>118.6</td>\n",
       "      <td>156.0</td>\n",
       "      <td>43.5</td>\n",
       "    </tr>\n",
       "    <tr>\n",
       "      <th>3</th>\n",
       "      <td>Hike</td>\n",
       "      <td>15.3</td>\n",
       "      <td>42.1</td>\n",
       "      <td>125.4</td>\n",
       "      <td>156.0</td>\n",
       "      <td>46.7</td>\n",
       "    </tr>\n",
       "    <tr>\n",
       "      <th>4</th>\n",
       "      <td>Hike</td>\n",
       "      <td>16.0</td>\n",
       "      <td>52.1</td>\n",
       "      <td>137.4</td>\n",
       "      <td>154.0</td>\n",
       "      <td>44.7</td>\n",
       "    </tr>\n",
       "  </tbody>\n",
       "</table>\n",
       "</div>"
      ],
      "text/plain": [
       "  type_m  x_start_h  x_min  average_heartrate  max_heartrate  average_cadence\n",
       "0   Hike       16.8   42.1              127.2          161.0             42.3\n",
       "1   Hike       17.1   20.1              114.8          148.0             43.0\n",
       "2   Hike       15.7   62.1              118.6          156.0             43.5\n",
       "3   Hike       15.3   42.1              125.4          156.0             46.7\n",
       "4   Hike       16.0   52.1              137.4          154.0             44.7"
      ]
     },
     "execution_count": 199,
     "metadata": {},
     "output_type": "execute_result"
    }
   ],
   "source": [
    "data2 = activity_clean.dropna()\n",
    "data2.head()"
   ]
  },
  {
   "cell_type": "code",
   "execution_count": 200,
   "metadata": {},
   "outputs": [
    {
     "data": {
      "text/html": [
       "<div>\n",
       "<style scoped>\n",
       "    .dataframe tbody tr th:only-of-type {\n",
       "        vertical-align: middle;\n",
       "    }\n",
       "\n",
       "    .dataframe tbody tr th {\n",
       "        vertical-align: top;\n",
       "    }\n",
       "\n",
       "    .dataframe thead th {\n",
       "        text-align: right;\n",
       "    }\n",
       "</style>\n",
       "<table border=\"1\" class=\"dataframe\">\n",
       "  <thead>\n",
       "    <tr style=\"text-align: right;\">\n",
       "      <th></th>\n",
       "      <th>x_start_h</th>\n",
       "      <th>x_min</th>\n",
       "      <th>average_heartrate</th>\n",
       "      <th>max_heartrate</th>\n",
       "      <th>average_cadence</th>\n",
       "    </tr>\n",
       "  </thead>\n",
       "  <tbody>\n",
       "    <tr>\n",
       "      <th>0</th>\n",
       "      <td>16.8</td>\n",
       "      <td>42.1</td>\n",
       "      <td>127.2</td>\n",
       "      <td>161.0</td>\n",
       "      <td>42.3</td>\n",
       "    </tr>\n",
       "    <tr>\n",
       "      <th>1</th>\n",
       "      <td>17.1</td>\n",
       "      <td>20.1</td>\n",
       "      <td>114.8</td>\n",
       "      <td>148.0</td>\n",
       "      <td>43.0</td>\n",
       "    </tr>\n",
       "    <tr>\n",
       "      <th>2</th>\n",
       "      <td>15.7</td>\n",
       "      <td>62.1</td>\n",
       "      <td>118.6</td>\n",
       "      <td>156.0</td>\n",
       "      <td>43.5</td>\n",
       "    </tr>\n",
       "    <tr>\n",
       "      <th>3</th>\n",
       "      <td>15.3</td>\n",
       "      <td>42.1</td>\n",
       "      <td>125.4</td>\n",
       "      <td>156.0</td>\n",
       "      <td>46.7</td>\n",
       "    </tr>\n",
       "    <tr>\n",
       "      <th>4</th>\n",
       "      <td>16.0</td>\n",
       "      <td>52.1</td>\n",
       "      <td>137.4</td>\n",
       "      <td>154.0</td>\n",
       "      <td>44.7</td>\n",
       "    </tr>\n",
       "  </tbody>\n",
       "</table>\n",
       "</div>"
      ],
      "text/plain": [
       "   x_start_h  x_min  average_heartrate  max_heartrate  average_cadence\n",
       "0       16.8   42.1              127.2          161.0             42.3\n",
       "1       17.1   20.1              114.8          148.0             43.0\n",
       "2       15.7   62.1              118.6          156.0             43.5\n",
       "3       15.3   42.1              125.4          156.0             46.7\n",
       "4       16.0   52.1              137.4          154.0             44.7"
      ]
     },
     "execution_count": 200,
     "metadata": {},
     "output_type": "execute_result"
    }
   ],
   "source": [
    "y = data2[\"type_m\"]\n",
    "target_names = [\"Hike\", \"Elliptical\", \"Run\"]\n",
    "X = data2.drop(\"type_m\", axis=1)\n",
    "X.head()"
   ]
  },
  {
   "cell_type": "code",
   "execution_count": 201,
   "metadata": {},
   "outputs": [
    {
     "name": "stdout",
     "output_type": "stream",
     "text": [
      "(408, 5) (408,)\n"
     ]
    }
   ],
   "source": [
    "print(X.shape, y.shape)"
   ]
  },
  {
   "cell_type": "code",
   "execution_count": 202,
   "metadata": {},
   "outputs": [],
   "source": [
    "X_train, X_test, y_train, y_test = train_test_split(\n",
    "    X, y, random_state=1)"
   ]
  },
  {
   "cell_type": "code",
   "execution_count": 203,
   "metadata": {},
   "outputs": [],
   "source": [
    "X_scaler = MinMaxScaler().fit(X_train)\n",
    "X_train_scaled = X_scaler.transform(X_train)\n",
    "X_test_scaled = X_scaler.transform(X_test)"
   ]
  },
  {
   "cell_type": "code",
   "execution_count": 204,
   "metadata": {},
   "outputs": [],
   "source": [
    "# Step 1: Label-encode data set\n",
    "label_encoder = LabelEncoder()\n",
    "label_encoder.fit(y_train)\n",
    "encoded_y_train = label_encoder.transform(y_train)\n",
    "encoded_y_test = label_encoder.transform(y_test)"
   ]
  },
  {
   "cell_type": "code",
   "execution_count": 205,
   "metadata": {},
   "outputs": [],
   "source": [
    "# Step 2: Convert encoded labels to one-hot-encoding\n",
    "y_train_categorical = to_categorical(encoded_y_train)\n",
    "y_test_categorical = to_categorical(encoded_y_test)"
   ]
  },
  {
   "cell_type": "code",
   "execution_count": 206,
   "metadata": {},
   "outputs": [],
   "source": [
    "from tensorflow.keras.models import Sequential\n",
    "from tensorflow.keras.layers import Dense"
   ]
  },
  {
   "cell_type": "code",
   "execution_count": 207,
   "metadata": {},
   "outputs": [],
   "source": [
    "# Create model and add layers\n",
    "model = Sequential()\n",
    "model.add(Dense(units=50, activation='relu', input_dim=5))\n",
    "model.add(Dense(units=50, activation='relu', input_dim=5))\n",
    "model.add(Dense(units=3, activation='softmax'))"
   ]
  },
  {
   "cell_type": "code",
   "execution_count": 208,
   "metadata": {},
   "outputs": [],
   "source": [
    "# Compile and fit the model\n",
    "model.compile(optimizer='adam',\n",
    "              loss='categorical_crossentropy',\n",
    "              metrics=['accuracy'])"
   ]
  },
  {
   "cell_type": "code",
   "execution_count": 209,
   "metadata": {},
   "outputs": [
    {
     "name": "stdout",
     "output_type": "stream",
     "text": [
      "Model: \"sequential_4\"\n",
      "_________________________________________________________________\n",
      "Layer (type)                 Output Shape              Param #   \n",
      "=================================================================\n",
      "dense_18 (Dense)             (None, 50)                300       \n",
      "_________________________________________________________________\n",
      "dense_19 (Dense)             (None, 50)                2550      \n",
      "_________________________________________________________________\n",
      "dense_20 (Dense)             (None, 3)                 153       \n",
      "=================================================================\n",
      "Total params: 3,003\n",
      "Trainable params: 3,003\n",
      "Non-trainable params: 0\n",
      "_________________________________________________________________\n"
     ]
    }
   ],
   "source": [
    "model.summary()"
   ]
  },
  {
   "cell_type": "code",
   "execution_count": 210,
   "metadata": {},
   "outputs": [
    {
     "name": "stdout",
     "output_type": "stream",
     "text": [
      "Train: 0.967, Test: 0.951\n"
     ]
    },
    {
     "data": {
      "image/png": "[encoded data removed]",
      "text/plain": [
       "<Figure size 432x288 with 2 Axes>"
      ]
     },
     "metadata": {
      "needs_background": "light"
     },
     "output_type": "display_data"
    }
   ],
   "source": [
    "history = model.fit(X_train_scaled, y_train_categorical, validation_data=(X_test_scaled, y_test_categorical), epochs=100, verbose=0)\n",
    "# evaluate the model\n",
    "_, train_acc = model.evaluate(X_train_scaled, y_train_categorical, verbose=0)\n",
    "_, test_acc = model.evaluate(X_test_scaled, y_test_categorical, verbose=0)\n",
    "print('Train: %.3f, Test: %.3f' % (train_acc, test_acc))\n",
    "# plot loss during training\n",
    "pyplot.subplot(211)\n",
    "pyplot.title('Loss')\n",
    "pyplot.plot(history.history['loss'], label='train')\n",
    "pyplot.plot(history.history['val_loss'], label='test')\n",
    "pyplot.legend()\n",
    "# plot accuracy during training\n",
    "pyplot.subplot(212)\n",
    "pyplot.title('Accuracy')\n",
    "pyplot.plot(history.history['accuracy'], label='train')\n",
    "pyplot.plot(history.history['val_accuracy'], label='test')\n",
    "pyplot.legend()\n",
    "pyplot.show()"
   ]
  },
  {
   "cell_type": "code",
   "execution_count": 211,
   "metadata": {},
   "outputs": [
    {
     "name": "stdout",
     "output_type": "stream",
     "text": [
      "4/4 - 0s - loss: 0.1484 - accuracy: 0.9510\n",
      "Normal Neural Network - Loss: 0.1483892947435379, Accuracy: 0.9509803652763367\n"
     ]
    }
   ],
   "source": [
    "model_loss, model_accuracy = model.evaluate(\n",
    "    X_test_scaled, y_test_categorical, verbose=2)\n",
    "print(\n",
    "    f\"Normal Neural Network - Loss: {model_loss}, Accuracy: {model_accuracy}\")"
   ]
  },
  {
   "cell_type": "code",
   "execution_count": 212,
   "metadata": {},
   "outputs": [],
   "source": [
    "encoded_predictions = model.predict_classes(X_test_scaled[:10])\n",
    "prediction_labels = label_encoder.inverse_transform(encoded_predictions)"
   ]
  },
  {
   "cell_type": "code",
   "execution_count": 213,
   "metadata": {},
   "outputs": [],
   "source": [
    "# predict probabilities for test set\n",
    "yhat_probs = model.predict(X_test_scaled, verbose=0)\n",
    "# predict crisp classes for test set\n",
    "yhat_classes = model.predict_classes(X_test_scaled, verbose=0)"
   ]
  },
  {
   "cell_type": "code",
   "execution_count": 214,
   "metadata": {},
   "outputs": [
    {
     "name": "stdout",
     "output_type": "stream",
     "text": [
      "Precision: 0.950980\n",
      "Recall: 0.950980\n",
      "F1 score: 0.950980\n"
     ]
    }
   ],
   "source": [
    "# precision tp / (tp + fp)\n",
    "precision = precision_score(encoded_y_test, yhat_classes, average='weighted')\n",
    "print('Precision: %f' % precision)\n",
    "# recall: tp / (tp + fn)\n",
    "recall = recall_score(encoded_y_test, yhat_classes, average='weighted')\n",
    "print('Recall: %f' % recall)\n",
    "# f1: 2 tp / (2 tp + fp + fn)\n",
    "f1 = f1_score(encoded_y_test, yhat_classes, average='weighted')\n",
    "print('F1 score: %f' % f1)"
   ]
  },
  {
   "cell_type": "code",
   "execution_count": 215,
   "metadata": {},
   "outputs": [
    {
     "name": "stdout",
     "output_type": "stream",
     "text": [
      "Predicted classes: ['Hike' 'Run' 'Run' 'Run' 'Run' 'Run' 'Run' 'Run' 'Hike' 'Run']\n",
      "Actual Labels: ['Run', 'Run', 'Run', 'Run', 'Run', 'Run', 'Run', 'Run', 'Hike', 'Run']\n"
     ]
    }
   ],
   "source": [
    "print(f\"Predicted classes: {prediction_labels}\")\n",
    "print(f\"Actual Labels: {list(y_test[:10])}\")"
   ]
  },
  {
   "cell_type": "code",
   "execution_count": 216,
   "metadata": {},
   "outputs": [],
   "source": [
    "encoded_predictions2 = model.predict_classes(X_test_scaled)\n",
    "prediction_labels2 = label_encoder.inverse_transform(encoded_predictions2)"
   ]
  },
  {
   "cell_type": "code",
   "execution_count": 217,
   "metadata": {},
   "outputs": [
    {
     "data": {
      "text/plain": [
       "array([[10,  1,  1],\n",
       "       [ 2,  7,  0],\n",
       "       [ 0,  1, 80]], dtype=int64)"
      ]
     },
     "execution_count": 217,
     "metadata": {},
     "output_type": "execute_result"
    }
   ],
   "source": [
    "cm = confusion_matrix(y_test,prediction_labels2)\n",
    "cm"
   ]
  },
  {
   "cell_type": "code",
   "execution_count": 218,
   "metadata": {},
   "outputs": [],
   "source": [
    "%matplotlib inline\n",
    "from sklearn.metrics import confusion_matrix\n",
    "import itertools\n",
    "import matplotlib.pyplot as plt"
   ]
  },
  {
   "cell_type": "code",
   "execution_count": 219,
   "metadata": {},
   "outputs": [],
   "source": [
    "cm = confusion_matrix(y_true=prediction_labels2, y_pred=y_test)"
   ]
  },
  {
   "cell_type": "code",
   "execution_count": 220,
   "metadata": {},
   "outputs": [],
   "source": [
    "def plot_confusion_matrix(cm, classes,\n",
    "                        normalize=False,\n",
    "                        title='Confusion matrix',\n",
    "                        cmap=plt.cm.Blues):\n",
    "    \"\"\"\n",
    "    This function prints and plots the confusion matrix.\n",
    "    Normalization can be applied by setting `normalize=True`.\n",
    "    \"\"\"\n",
    "    plt.imshow(cm, interpolation='nearest', cmap=cmap)\n",
    "    plt.title(title)\n",
    "    plt.colorbar()\n",
    "    tick_marks = np.arange(len(classes))\n",
    "    plt.xticks(tick_marks, classes)\n",
    "    plt.yticks(tick_marks, classes)\n",
    "\n",
    "    thresh = cm.max() / 2.\n",
    "    for i, j in itertools.product(range(cm.shape[0]), range(cm.shape[1])):\n",
    "        plt.text(j, i, cm[i, j],\n",
    "            horizontalalignment=\"center\",\n",
    "            color=\"white\" if cm[i, j] > thresh else \"black\")\n",
    "\n",
    "    plt.tight_layout()\n",
    "    plt.ylabel('True label')\n",
    "    plt.xlabel('Predicted label')"
   ]
  },
  {
   "cell_type": "code",
   "execution_count": 221,
   "metadata": {},
   "outputs": [],
   "source": [
    "cm_plot_labels = ['Hike','Elliptical','Run']"
   ]
  },
  {
   "cell_type": "code",
   "execution_count": 222,
   "metadata": {},
   "outputs": [
    {
     "data": {
      "image/png": "[encoded data removed]",
      "text/plain": [
       "<Figure size 432x288 with 2 Axes>"
      ]
     },
     "metadata": {
      "needs_background": "light"
     },
     "output_type": "display_data"
    }
   ],
   "source": [
    "plot_confusion_matrix(cm=cm, classes=cm_plot_labels)"
   ]
  },
  {
   "cell_type": "code",
   "execution_count": null,
   "metadata": {},
   "outputs": [],
   "source": []
  }
 ],
 "metadata": {
  "kernelspec": {
   "display_name": "Python 3",
   "language": "python",
   "name": "python3"
  },
  "language_info": {
   "codemirror_mode": {
    "name": "ipython",
    "version": 3
   },
   "file_extension": ".py",
   "mimetype": "text/x-python",
   "name": "python",
   "nbconvert_exporter": "python",
   "pygments_lexer": "ipython3",
   "version": "3.7.6"
  }
 },
 "nbformat": 4,
 "nbformat_minor": 4
}
