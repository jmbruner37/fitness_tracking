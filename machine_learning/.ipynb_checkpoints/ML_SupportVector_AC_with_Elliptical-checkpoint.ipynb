{
 "cells": [
  {
   "cell_type": "code",
   "execution_count": 1,
   "metadata": {},
   "outputs": [],
   "source": [
    "import matplotlib.pyplot as plt\n",
    "from sklearn.neighbors import KNeighborsClassifier\n",
    "import pandas as pd\n",
    "import numpy as np\n",
    "import os"
   ]
  },
  {
   "cell_type": "code",
   "execution_count": 2,
   "metadata": {},
   "outputs": [
    {
     "data": {
      "text/html": [
       "<div>\n",
       "<style scoped>\n",
       "    .dataframe tbody tr th:only-of-type {\n",
       "        vertical-align: middle;\n",
       "    }\n",
       "\n",
       "    .dataframe tbody tr th {\n",
       "        vertical-align: top;\n",
       "    }\n",
       "\n",
       "    .dataframe thead th {\n",
       "        text-align: right;\n",
       "    }\n",
       "</style>\n",
       "<table border=\"1\" class=\"dataframe\">\n",
       "  <thead>\n",
       "    <tr style=\"text-align: right;\">\n",
       "      <th></th>\n",
       "      <th>id</th>\n",
       "      <th>type</th>\n",
       "      <th>type_m</th>\n",
       "      <th>x_gear_name</th>\n",
       "      <th>start_date_local</th>\n",
       "      <th>x_start_h</th>\n",
       "      <th>name</th>\n",
       "      <th>x_min</th>\n",
       "      <th>x_km</th>\n",
       "      <th>x_min/km</th>\n",
       "      <th>...</th>\n",
       "      <th>start_longitude</th>\n",
       "      <th>timezone</th>\n",
       "      <th>total_photo_count</th>\n",
       "      <th>trainer</th>\n",
       "      <th>upload_id</th>\n",
       "      <th>upload_id_str</th>\n",
       "      <th>utc_offset</th>\n",
       "      <th>x_date</th>\n",
       "      <th>x_elev_%</th>\n",
       "      <th>x_url</th>\n",
       "    </tr>\n",
       "  </thead>\n",
       "  <tbody>\n",
       "    <tr>\n",
       "      <th>0</th>\n",
       "      <td>2051690684</td>\n",
       "      <td>Run</td>\n",
       "      <td>Run</td>\n",
       "      <td>NaN</td>\n",
       "      <td>01.01.2019</td>\n",
       "      <td>15.6</td>\n",
       "      <td>Afternoon Run</td>\n",
       "      <td>65.5</td>\n",
       "      <td>11.425</td>\n",
       "      <td>5.73</td>\n",
       "      <td>...</td>\n",
       "      <td>-116.960523</td>\n",
       "      <td>(GMT-08:00) America/Los_Angeles</td>\n",
       "      <td>0</td>\n",
       "      <td>0</td>\n",
       "      <td>2192263908</td>\n",
       "      <td>2192263908</td>\n",
       "      <td>-28800</td>\n",
       "      <td>1/1/2019</td>\n",
       "      <td>0.43</td>\n",
       "      <td>https://www.strava.com/activities/2051690684</td>\n",
       "    </tr>\n",
       "    <tr>\n",
       "      <th>1</th>\n",
       "      <td>2974419038</td>\n",
       "      <td>Run</td>\n",
       "      <td>Hike</td>\n",
       "      <td>NaN</td>\n",
       "      <td>01.01.2020</td>\n",
       "      <td>15.4</td>\n",
       "      <td>Afternoon Run</td>\n",
       "      <td>141.5</td>\n",
       "      <td>8.585</td>\n",
       "      <td>16.49</td>\n",
       "      <td>...</td>\n",
       "      <td>-116.972282</td>\n",
       "      <td>(GMT-08:00) America/Los_Angeles</td>\n",
       "      <td>0</td>\n",
       "      <td>0</td>\n",
       "      <td>3169462081</td>\n",
       "      <td>3169462081</td>\n",
       "      <td>-28800</td>\n",
       "      <td>1/1/2020</td>\n",
       "      <td>3.98</td>\n",
       "      <td>https://www.strava.com/activities/2974419038</td>\n",
       "    </tr>\n",
       "    <tr>\n",
       "      <th>2</th>\n",
       "      <td>1432710517</td>\n",
       "      <td>Run</td>\n",
       "      <td>Run</td>\n",
       "      <td>NaN</td>\n",
       "      <td>01.03.2018</td>\n",
       "      <td>7.4</td>\n",
       "      <td>Morning Run</td>\n",
       "      <td>48.7</td>\n",
       "      <td>8.434</td>\n",
       "      <td>5.77</td>\n",
       "      <td>...</td>\n",
       "      <td>-116.960436</td>\n",
       "      <td>(GMT-08:00) America/Los_Angeles</td>\n",
       "      <td>0</td>\n",
       "      <td>0</td>\n",
       "      <td>1545662477</td>\n",
       "      <td>1545662477</td>\n",
       "      <td>-28800</td>\n",
       "      <td>3/1/2018</td>\n",
       "      <td>0.96</td>\n",
       "      <td>https://www.strava.com/activities/1432710517</td>\n",
       "    </tr>\n",
       "    <tr>\n",
       "      <th>3</th>\n",
       "      <td>923785050</td>\n",
       "      <td>Run</td>\n",
       "      <td>Run</td>\n",
       "      <td>NaN</td>\n",
       "      <td>01.04.2017</td>\n",
       "      <td>6.8</td>\n",
       "      <td>Morning Run</td>\n",
       "      <td>172.2</td>\n",
       "      <td>32.301</td>\n",
       "      <td>5.33</td>\n",
       "      <td>...</td>\n",
       "      <td>-117.255867</td>\n",
       "      <td>(GMT-08:00) America/Los_Angeles</td>\n",
       "      <td>0</td>\n",
       "      <td>0</td>\n",
       "      <td>1023629735</td>\n",
       "      <td>1023629735</td>\n",
       "      <td>-25200</td>\n",
       "      <td>4/1/2017</td>\n",
       "      <td>0.86</td>\n",
       "      <td>https://www.strava.com/activities/923785050</td>\n",
       "    </tr>\n",
       "    <tr>\n",
       "      <th>4</th>\n",
       "      <td>1016023574</td>\n",
       "      <td>Run</td>\n",
       "      <td>Run</td>\n",
       "      <td>NaN</td>\n",
       "      <td>01.06.2017</td>\n",
       "      <td>6.4</td>\n",
       "      <td>Morning Run</td>\n",
       "      <td>82.4</td>\n",
       "      <td>16.159</td>\n",
       "      <td>5.10</td>\n",
       "      <td>...</td>\n",
       "      <td>-116.959949</td>\n",
       "      <td>(GMT-08:00) America/Los_Angeles</td>\n",
       "      <td>0</td>\n",
       "      <td>0</td>\n",
       "      <td>1118724262</td>\n",
       "      <td>1118724262</td>\n",
       "      <td>-25200</td>\n",
       "      <td>6/1/2017</td>\n",
       "      <td>0.83</td>\n",
       "      <td>https://www.strava.com/activities/1016023574</td>\n",
       "    </tr>\n",
       "  </tbody>\n",
       "</table>\n",
       "<p>5 rows × 74 columns</p>\n",
       "</div>"
      ],
      "text/plain": [
       "           id type type_m  x_gear_name start_date_local  x_start_h  \\\n",
       "0  2051690684  Run    Run          NaN       01.01.2019       15.6   \n",
       "1  2974419038  Run   Hike          NaN       01.01.2020       15.4   \n",
       "2  1432710517  Run    Run          NaN       01.03.2018        7.4   \n",
       "3   923785050  Run    Run          NaN       01.04.2017        6.8   \n",
       "4  1016023574  Run    Run          NaN       01.06.2017        6.4   \n",
       "\n",
       "            name  x_min    x_km  x_min/km  ...  start_longitude  \\\n",
       "0  Afternoon Run   65.5  11.425      5.73  ...      -116.960523   \n",
       "1  Afternoon Run  141.5   8.585     16.49  ...      -116.972282   \n",
       "2    Morning Run   48.7   8.434      5.77  ...      -116.960436   \n",
       "3    Morning Run  172.2  32.301      5.33  ...      -117.255867   \n",
       "4    Morning Run   82.4  16.159      5.10  ...      -116.959949   \n",
       "\n",
       "                          timezone  total_photo_count  trainer   upload_id  \\\n",
       "0  (GMT-08:00) America/Los_Angeles                  0        0  2192263908   \n",
       "1  (GMT-08:00) America/Los_Angeles                  0        0  3169462081   \n",
       "2  (GMT-08:00) America/Los_Angeles                  0        0  1545662477   \n",
       "3  (GMT-08:00) America/Los_Angeles                  0        0  1023629735   \n",
       "4  (GMT-08:00) America/Los_Angeles                  0        0  1118724262   \n",
       "\n",
       "   upload_id_str  utc_offset    x_date  x_elev_%  \\\n",
       "0     2192263908      -28800  1/1/2019      0.43   \n",
       "1     3169462081      -28800  1/1/2020      3.98   \n",
       "2     1545662477      -28800  3/1/2018      0.96   \n",
       "3     1023629735      -25200  4/1/2017      0.86   \n",
       "4     1118724262      -25200  6/1/2017      0.83   \n",
       "\n",
       "                                          x_url  \n",
       "0  https://www.strava.com/activities/2051690684  \n",
       "1  https://www.strava.com/activities/2974419038  \n",
       "2  https://www.strava.com/activities/1432710517  \n",
       "3   https://www.strava.com/activities/923785050  \n",
       "4  https://www.strava.com/activities/1016023574  \n",
       "\n",
       "[5 rows x 74 columns]"
      ]
     },
     "execution_count": 2,
     "metadata": {},
     "output_type": "execute_result"
    }
   ],
   "source": [
    "activity = pd.read_csv(os.path.join('andrew_data2.csv'))\n",
    "activity.head()"
   ]
  },
  {
   "cell_type": "code",
   "execution_count": 3,
   "metadata": {},
   "outputs": [
    {
     "name": "stdout",
     "output_type": "stream",
     "text": [
      "<class 'pandas.core.frame.DataFrame'>\n",
      "RangeIndex: 527 entries, 0 to 526\n",
      "Data columns (total 1 columns):\n",
      " #   Column            Non-Null Count  Dtype \n",
      "---  ------            --------------  ----- \n",
      " 0   start_date_local  527 non-null    object\n",
      "dtypes: object(1)\n",
      "memory usage: 4.2+ KB\n"
     ]
    }
   ],
   "source": [
    "activity[[\"start_date_local\"]].info()"
   ]
  },
  {
   "cell_type": "code",
   "execution_count": 4,
   "metadata": {},
   "outputs": [
    {
     "data": {
      "text/html": [
       "<div>\n",
       "<style scoped>\n",
       "    .dataframe tbody tr th:only-of-type {\n",
       "        vertical-align: middle;\n",
       "    }\n",
       "\n",
       "    .dataframe tbody tr th {\n",
       "        vertical-align: top;\n",
       "    }\n",
       "\n",
       "    .dataframe thead th {\n",
       "        text-align: right;\n",
       "    }\n",
       "</style>\n",
       "<table border=\"1\" class=\"dataframe\">\n",
       "  <thead>\n",
       "    <tr style=\"text-align: right;\">\n",
       "      <th></th>\n",
       "      <th>id</th>\n",
       "      <th>type</th>\n",
       "      <th>type_m</th>\n",
       "      <th>x_gear_name</th>\n",
       "      <th>start_date_local</th>\n",
       "      <th>x_start_h</th>\n",
       "      <th>name</th>\n",
       "      <th>x_min</th>\n",
       "      <th>x_km</th>\n",
       "      <th>x_min/km</th>\n",
       "      <th>...</th>\n",
       "      <th>start_longitude</th>\n",
       "      <th>timezone</th>\n",
       "      <th>total_photo_count</th>\n",
       "      <th>trainer</th>\n",
       "      <th>upload_id</th>\n",
       "      <th>upload_id_str</th>\n",
       "      <th>utc_offset</th>\n",
       "      <th>x_date</th>\n",
       "      <th>x_elev_%</th>\n",
       "      <th>x_url</th>\n",
       "    </tr>\n",
       "  </thead>\n",
       "  <tbody>\n",
       "    <tr>\n",
       "      <th>0</th>\n",
       "      <td>2051690684</td>\n",
       "      <td>Run</td>\n",
       "      <td>Run</td>\n",
       "      <td>NaN</td>\n",
       "      <td>2019-01-01</td>\n",
       "      <td>15.6</td>\n",
       "      <td>Afternoon Run</td>\n",
       "      <td>65.5</td>\n",
       "      <td>11.425</td>\n",
       "      <td>5.73</td>\n",
       "      <td>...</td>\n",
       "      <td>-116.960523</td>\n",
       "      <td>(GMT-08:00) America/Los_Angeles</td>\n",
       "      <td>0</td>\n",
       "      <td>0</td>\n",
       "      <td>2192263908</td>\n",
       "      <td>2192263908</td>\n",
       "      <td>-28800</td>\n",
       "      <td>1/1/2019</td>\n",
       "      <td>0.43</td>\n",
       "      <td>https://www.strava.com/activities/2051690684</td>\n",
       "    </tr>\n",
       "    <tr>\n",
       "      <th>1</th>\n",
       "      <td>2974419038</td>\n",
       "      <td>Run</td>\n",
       "      <td>Hike</td>\n",
       "      <td>NaN</td>\n",
       "      <td>2020-01-01</td>\n",
       "      <td>15.4</td>\n",
       "      <td>Afternoon Run</td>\n",
       "      <td>141.5</td>\n",
       "      <td>8.585</td>\n",
       "      <td>16.49</td>\n",
       "      <td>...</td>\n",
       "      <td>-116.972282</td>\n",
       "      <td>(GMT-08:00) America/Los_Angeles</td>\n",
       "      <td>0</td>\n",
       "      <td>0</td>\n",
       "      <td>3169462081</td>\n",
       "      <td>3169462081</td>\n",
       "      <td>-28800</td>\n",
       "      <td>1/1/2020</td>\n",
       "      <td>3.98</td>\n",
       "      <td>https://www.strava.com/activities/2974419038</td>\n",
       "    </tr>\n",
       "    <tr>\n",
       "      <th>2</th>\n",
       "      <td>1432710517</td>\n",
       "      <td>Run</td>\n",
       "      <td>Run</td>\n",
       "      <td>NaN</td>\n",
       "      <td>2018-01-03</td>\n",
       "      <td>7.4</td>\n",
       "      <td>Morning Run</td>\n",
       "      <td>48.7</td>\n",
       "      <td>8.434</td>\n",
       "      <td>5.77</td>\n",
       "      <td>...</td>\n",
       "      <td>-116.960436</td>\n",
       "      <td>(GMT-08:00) America/Los_Angeles</td>\n",
       "      <td>0</td>\n",
       "      <td>0</td>\n",
       "      <td>1545662477</td>\n",
       "      <td>1545662477</td>\n",
       "      <td>-28800</td>\n",
       "      <td>3/1/2018</td>\n",
       "      <td>0.96</td>\n",
       "      <td>https://www.strava.com/activities/1432710517</td>\n",
       "    </tr>\n",
       "    <tr>\n",
       "      <th>3</th>\n",
       "      <td>923785050</td>\n",
       "      <td>Run</td>\n",
       "      <td>Run</td>\n",
       "      <td>NaN</td>\n",
       "      <td>2017-01-04</td>\n",
       "      <td>6.8</td>\n",
       "      <td>Morning Run</td>\n",
       "      <td>172.2</td>\n",
       "      <td>32.301</td>\n",
       "      <td>5.33</td>\n",
       "      <td>...</td>\n",
       "      <td>-117.255867</td>\n",
       "      <td>(GMT-08:00) America/Los_Angeles</td>\n",
       "      <td>0</td>\n",
       "      <td>0</td>\n",
       "      <td>1023629735</td>\n",
       "      <td>1023629735</td>\n",
       "      <td>-25200</td>\n",
       "      <td>4/1/2017</td>\n",
       "      <td>0.86</td>\n",
       "      <td>https://www.strava.com/activities/923785050</td>\n",
       "    </tr>\n",
       "    <tr>\n",
       "      <th>4</th>\n",
       "      <td>1016023574</td>\n",
       "      <td>Run</td>\n",
       "      <td>Run</td>\n",
       "      <td>NaN</td>\n",
       "      <td>2017-01-06</td>\n",
       "      <td>6.4</td>\n",
       "      <td>Morning Run</td>\n",
       "      <td>82.4</td>\n",
       "      <td>16.159</td>\n",
       "      <td>5.10</td>\n",
       "      <td>...</td>\n",
       "      <td>-116.959949</td>\n",
       "      <td>(GMT-08:00) America/Los_Angeles</td>\n",
       "      <td>0</td>\n",
       "      <td>0</td>\n",
       "      <td>1118724262</td>\n",
       "      <td>1118724262</td>\n",
       "      <td>-25200</td>\n",
       "      <td>6/1/2017</td>\n",
       "      <td>0.83</td>\n",
       "      <td>https://www.strava.com/activities/1016023574</td>\n",
       "    </tr>\n",
       "  </tbody>\n",
       "</table>\n",
       "<p>5 rows × 74 columns</p>\n",
       "</div>"
      ],
      "text/plain": [
       "           id type type_m  x_gear_name start_date_local  x_start_h  \\\n",
       "0  2051690684  Run    Run          NaN       2019-01-01       15.6   \n",
       "1  2974419038  Run   Hike          NaN       2020-01-01       15.4   \n",
       "2  1432710517  Run    Run          NaN       2018-01-03        7.4   \n",
       "3   923785050  Run    Run          NaN       2017-01-04        6.8   \n",
       "4  1016023574  Run    Run          NaN       2017-01-06        6.4   \n",
       "\n",
       "            name  x_min    x_km  x_min/km  ...  start_longitude  \\\n",
       "0  Afternoon Run   65.5  11.425      5.73  ...      -116.960523   \n",
       "1  Afternoon Run  141.5   8.585     16.49  ...      -116.972282   \n",
       "2    Morning Run   48.7   8.434      5.77  ...      -116.960436   \n",
       "3    Morning Run  172.2  32.301      5.33  ...      -117.255867   \n",
       "4    Morning Run   82.4  16.159      5.10  ...      -116.959949   \n",
       "\n",
       "                          timezone  total_photo_count  trainer   upload_id  \\\n",
       "0  (GMT-08:00) America/Los_Angeles                  0        0  2192263908   \n",
       "1  (GMT-08:00) America/Los_Angeles                  0        0  3169462081   \n",
       "2  (GMT-08:00) America/Los_Angeles                  0        0  1545662477   \n",
       "3  (GMT-08:00) America/Los_Angeles                  0        0  1023629735   \n",
       "4  (GMT-08:00) America/Los_Angeles                  0        0  1118724262   \n",
       "\n",
       "   upload_id_str  utc_offset    x_date  x_elev_%  \\\n",
       "0     2192263908      -28800  1/1/2019      0.43   \n",
       "1     3169462081      -28800  1/1/2020      3.98   \n",
       "2     1545662477      -28800  3/1/2018      0.96   \n",
       "3     1023629735      -25200  4/1/2017      0.86   \n",
       "4     1118724262      -25200  6/1/2017      0.83   \n",
       "\n",
       "                                          x_url  \n",
       "0  https://www.strava.com/activities/2051690684  \n",
       "1  https://www.strava.com/activities/2974419038  \n",
       "2  https://www.strava.com/activities/1432710517  \n",
       "3   https://www.strava.com/activities/923785050  \n",
       "4  https://www.strava.com/activities/1016023574  \n",
       "\n",
       "[5 rows x 74 columns]"
      ]
     },
     "execution_count": 4,
     "metadata": {},
     "output_type": "execute_result"
    }
   ],
   "source": [
    "activity[\"start_date_local\"] = pd.to_datetime(activity[\"start_date_local\"])\n",
    "activity.head()"
   ]
  },
  {
   "cell_type": "code",
   "execution_count": 5,
   "metadata": {},
   "outputs": [
    {
     "data": {
      "text/html": [
       "<div>\n",
       "<style scoped>\n",
       "    .dataframe tbody tr th:only-of-type {\n",
       "        vertical-align: middle;\n",
       "    }\n",
       "\n",
       "    .dataframe tbody tr th {\n",
       "        vertical-align: top;\n",
       "    }\n",
       "\n",
       "    .dataframe thead th {\n",
       "        text-align: right;\n",
       "    }\n",
       "</style>\n",
       "<table border=\"1\" class=\"dataframe\">\n",
       "  <thead>\n",
       "    <tr style=\"text-align: right;\">\n",
       "      <th></th>\n",
       "      <th>type</th>\n",
       "      <th>type_m</th>\n",
       "      <th>start_date_local</th>\n",
       "      <th>x_start_h</th>\n",
       "      <th>x_min</th>\n",
       "      <th>average_heartrate</th>\n",
       "      <th>max_heartrate</th>\n",
       "      <th>average_cadence</th>\n",
       "    </tr>\n",
       "  </thead>\n",
       "  <tbody>\n",
       "    <tr>\n",
       "      <th>0</th>\n",
       "      <td>Run</td>\n",
       "      <td>Run</td>\n",
       "      <td>2019-01-01</td>\n",
       "      <td>15.6</td>\n",
       "      <td>65.5</td>\n",
       "      <td>NaN</td>\n",
       "      <td>NaN</td>\n",
       "      <td>83.6</td>\n",
       "    </tr>\n",
       "    <tr>\n",
       "      <th>1</th>\n",
       "      <td>Run</td>\n",
       "      <td>Hike</td>\n",
       "      <td>2020-01-01</td>\n",
       "      <td>15.4</td>\n",
       "      <td>141.5</td>\n",
       "      <td>95.0</td>\n",
       "      <td>124.0</td>\n",
       "      <td>53.2</td>\n",
       "    </tr>\n",
       "    <tr>\n",
       "      <th>2</th>\n",
       "      <td>Run</td>\n",
       "      <td>Run</td>\n",
       "      <td>2018-01-03</td>\n",
       "      <td>7.4</td>\n",
       "      <td>48.7</td>\n",
       "      <td>151.7</td>\n",
       "      <td>186.0</td>\n",
       "      <td>84.2</td>\n",
       "    </tr>\n",
       "    <tr>\n",
       "      <th>3</th>\n",
       "      <td>Run</td>\n",
       "      <td>Run</td>\n",
       "      <td>2017-01-04</td>\n",
       "      <td>6.8</td>\n",
       "      <td>172.2</td>\n",
       "      <td>156.5</td>\n",
       "      <td>193.0</td>\n",
       "      <td>84.4</td>\n",
       "    </tr>\n",
       "    <tr>\n",
       "      <th>4</th>\n",
       "      <td>Run</td>\n",
       "      <td>Run</td>\n",
       "      <td>2017-01-06</td>\n",
       "      <td>6.4</td>\n",
       "      <td>82.4</td>\n",
       "      <td>158.2</td>\n",
       "      <td>183.0</td>\n",
       "      <td>86.1</td>\n",
       "    </tr>\n",
       "  </tbody>\n",
       "</table>\n",
       "</div>"
      ],
      "text/plain": [
       "  type type_m start_date_local  x_start_h  x_min  average_heartrate  \\\n",
       "0  Run    Run       2019-01-01       15.6   65.5                NaN   \n",
       "1  Run   Hike       2020-01-01       15.4  141.5               95.0   \n",
       "2  Run    Run       2018-01-03        7.4   48.7              151.7   \n",
       "3  Run    Run       2017-01-04        6.8  172.2              156.5   \n",
       "4  Run    Run       2017-01-06        6.4   82.4              158.2   \n",
       "\n",
       "   max_heartrate  average_cadence  \n",
       "0            NaN             83.6  \n",
       "1          124.0             53.2  \n",
       "2          186.0             84.2  \n",
       "3          193.0             84.4  \n",
       "4          183.0             86.1  "
      ]
     },
     "execution_count": 5,
     "metadata": {},
     "output_type": "execute_result"
    }
   ],
   "source": [
    "activity_clean = activity[[\"type\", \"type_m\", \"start_date_local\", \"x_start_h\", \"x_min\", \"average_heartrate\", \"max_heartrate\", \"average_cadence\"]]\n",
    "activity_clean.head()"
   ]
  },
  {
   "cell_type": "code",
   "execution_count": 6,
   "metadata": {},
   "outputs": [
    {
     "data": {
      "text/html": [
       "<div>\n",
       "<style scoped>\n",
       "    .dataframe tbody tr th:only-of-type {\n",
       "        vertical-align: middle;\n",
       "    }\n",
       "\n",
       "    .dataframe tbody tr th {\n",
       "        vertical-align: top;\n",
       "    }\n",
       "\n",
       "    .dataframe thead th {\n",
       "        text-align: right;\n",
       "    }\n",
       "</style>\n",
       "<table border=\"1\" class=\"dataframe\">\n",
       "  <thead>\n",
       "    <tr style=\"text-align: right;\">\n",
       "      <th></th>\n",
       "      <th>type</th>\n",
       "      <th>type_m</th>\n",
       "      <th>start_date_local</th>\n",
       "      <th>x_start_h</th>\n",
       "      <th>x_min</th>\n",
       "      <th>average_heartrate</th>\n",
       "      <th>max_heartrate</th>\n",
       "      <th>average_cadence</th>\n",
       "    </tr>\n",
       "  </thead>\n",
       "  <tbody>\n",
       "    <tr>\n",
       "      <th>1</th>\n",
       "      <td>Run</td>\n",
       "      <td>Hike</td>\n",
       "      <td>2020-01-01</td>\n",
       "      <td>15.4</td>\n",
       "      <td>141.5</td>\n",
       "      <td>95.0</td>\n",
       "      <td>124.0</td>\n",
       "      <td>53.2</td>\n",
       "    </tr>\n",
       "    <tr>\n",
       "      <th>2</th>\n",
       "      <td>Run</td>\n",
       "      <td>Run</td>\n",
       "      <td>2018-01-03</td>\n",
       "      <td>7.4</td>\n",
       "      <td>48.7</td>\n",
       "      <td>151.7</td>\n",
       "      <td>186.0</td>\n",
       "      <td>84.2</td>\n",
       "    </tr>\n",
       "    <tr>\n",
       "      <th>3</th>\n",
       "      <td>Run</td>\n",
       "      <td>Run</td>\n",
       "      <td>2017-01-04</td>\n",
       "      <td>6.8</td>\n",
       "      <td>172.2</td>\n",
       "      <td>156.5</td>\n",
       "      <td>193.0</td>\n",
       "      <td>84.4</td>\n",
       "    </tr>\n",
       "    <tr>\n",
       "      <th>4</th>\n",
       "      <td>Run</td>\n",
       "      <td>Run</td>\n",
       "      <td>2017-01-06</td>\n",
       "      <td>6.4</td>\n",
       "      <td>82.4</td>\n",
       "      <td>158.2</td>\n",
       "      <td>183.0</td>\n",
       "      <td>86.1</td>\n",
       "    </tr>\n",
       "    <tr>\n",
       "      <th>5</th>\n",
       "      <td>Run</td>\n",
       "      <td>Run</td>\n",
       "      <td>2019-01-06</td>\n",
       "      <td>8.1</td>\n",
       "      <td>20.1</td>\n",
       "      <td>141.4</td>\n",
       "      <td>169.0</td>\n",
       "      <td>85.8</td>\n",
       "    </tr>\n",
       "  </tbody>\n",
       "</table>\n",
       "</div>"
      ],
      "text/plain": [
       "  type type_m start_date_local  x_start_h  x_min  average_heartrate  \\\n",
       "1  Run   Hike       2020-01-01       15.4  141.5               95.0   \n",
       "2  Run    Run       2018-01-03        7.4   48.7              151.7   \n",
       "3  Run    Run       2017-01-04        6.8  172.2              156.5   \n",
       "4  Run    Run       2017-01-06        6.4   82.4              158.2   \n",
       "5  Run    Run       2019-01-06        8.1   20.1              141.4   \n",
       "\n",
       "   max_heartrate  average_cadence  \n",
       "1          124.0             53.2  \n",
       "2          186.0             84.2  \n",
       "3          193.0             84.4  \n",
       "4          183.0             86.1  \n",
       "5          169.0             85.8  "
      ]
     },
     "execution_count": 6,
     "metadata": {},
     "output_type": "execute_result"
    }
   ],
   "source": [
    "data2 = activity_clean.dropna()\n",
    "data2.head()"
   ]
  },
  {
   "cell_type": "code",
   "execution_count": 38,
   "metadata": {},
   "outputs": [
    {
     "data": {
      "text/plain": [
       "Run           305\n",
       "Elliptical      3\n",
       "Name: type, dtype: int64"
      ]
     },
     "execution_count": 38,
     "metadata": {},
     "output_type": "execute_result"
    }
   ],
   "source": [
    "train_data = data2[(data2['start_date_local'] < '2019-12-03')] \n",
    "train_data.shape\n",
    "train_data[\"type\"].value_counts()"
   ]
  },
  {
   "cell_type": "code",
   "execution_count": 40,
   "metadata": {},
   "outputs": [
    {
     "data": {
      "text/plain": [
       "Run           281\n",
       "Hike           24\n",
       "Elliptical      3\n",
       "Name: type_m, dtype: int64"
      ]
     },
     "execution_count": 40,
     "metadata": {},
     "output_type": "execute_result"
    }
   ],
   "source": [
    "train_data[\"type_m\"].value_counts()"
   ]
  },
  {
   "cell_type": "code",
   "execution_count": 37,
   "metadata": {},
   "outputs": [
    {
     "data": {
      "text/plain": [
       "Run           61\n",
       "Elliptical    39\n",
       "Name: type, dtype: int64"
      ]
     },
     "execution_count": 37,
     "metadata": {},
     "output_type": "execute_result"
    }
   ],
   "source": [
    "test_data = data2[(data2['start_date_local'] >= '2019-12-03')] \n",
    "test_data[\"type\"].value_counts()"
   ]
  },
  {
   "cell_type": "code",
   "execution_count": 39,
   "metadata": {},
   "outputs": [
    {
     "data": {
      "text/plain": [
       "Run           46\n",
       "Elliptical    39\n",
       "Hike          15\n",
       "Name: type_m, dtype: int64"
      ]
     },
     "execution_count": 39,
     "metadata": {},
     "output_type": "execute_result"
    }
   ],
   "source": [
    "test_data[\"type_m\"].value_counts()"
   ]
  },
  {
   "cell_type": "code",
   "execution_count": 9,
   "metadata": {},
   "outputs": [
    {
     "data": {
      "text/html": [
       "<div>\n",
       "<style scoped>\n",
       "    .dataframe tbody tr th:only-of-type {\n",
       "        vertical-align: middle;\n",
       "    }\n",
       "\n",
       "    .dataframe tbody tr th {\n",
       "        vertical-align: top;\n",
       "    }\n",
       "\n",
       "    .dataframe thead th {\n",
       "        text-align: right;\n",
       "    }\n",
       "</style>\n",
       "<table border=\"1\" class=\"dataframe\">\n",
       "  <thead>\n",
       "    <tr style=\"text-align: right;\">\n",
       "      <th></th>\n",
       "      <th>type_m</th>\n",
       "      <th>x_start_h</th>\n",
       "      <th>x_min</th>\n",
       "      <th>average_heartrate</th>\n",
       "      <th>max_heartrate</th>\n",
       "      <th>average_cadence</th>\n",
       "    </tr>\n",
       "  </thead>\n",
       "  <tbody>\n",
       "    <tr>\n",
       "      <th>2</th>\n",
       "      <td>Run</td>\n",
       "      <td>7.4</td>\n",
       "      <td>48.7</td>\n",
       "      <td>151.7</td>\n",
       "      <td>186.0</td>\n",
       "      <td>84.2</td>\n",
       "    </tr>\n",
       "    <tr>\n",
       "      <th>3</th>\n",
       "      <td>Run</td>\n",
       "      <td>6.8</td>\n",
       "      <td>172.2</td>\n",
       "      <td>156.5</td>\n",
       "      <td>193.0</td>\n",
       "      <td>84.4</td>\n",
       "    </tr>\n",
       "    <tr>\n",
       "      <th>4</th>\n",
       "      <td>Run</td>\n",
       "      <td>6.4</td>\n",
       "      <td>82.4</td>\n",
       "      <td>158.2</td>\n",
       "      <td>183.0</td>\n",
       "      <td>86.1</td>\n",
       "    </tr>\n",
       "    <tr>\n",
       "      <th>5</th>\n",
       "      <td>Run</td>\n",
       "      <td>8.1</td>\n",
       "      <td>20.1</td>\n",
       "      <td>141.4</td>\n",
       "      <td>169.0</td>\n",
       "      <td>85.8</td>\n",
       "    </tr>\n",
       "    <tr>\n",
       "      <th>6</th>\n",
       "      <td>Run</td>\n",
       "      <td>7.3</td>\n",
       "      <td>112.4</td>\n",
       "      <td>157.7</td>\n",
       "      <td>198.0</td>\n",
       "      <td>85.3</td>\n",
       "    </tr>\n",
       "  </tbody>\n",
       "</table>\n",
       "</div>"
      ],
      "text/plain": [
       "  type_m  x_start_h  x_min  average_heartrate  max_heartrate  average_cadence\n",
       "2    Run        7.4   48.7              151.7          186.0             84.2\n",
       "3    Run        6.8  172.2              156.5          193.0             84.4\n",
       "4    Run        6.4   82.4              158.2          183.0             86.1\n",
       "5    Run        8.1   20.1              141.4          169.0             85.8\n",
       "6    Run        7.3  112.4              157.7          198.0             85.3"
      ]
     },
     "execution_count": 9,
     "metadata": {},
     "output_type": "execute_result"
    }
   ],
   "source": [
    "train_clean = train_data[[\"type_m\", \"x_start_h\", \"x_min\", \"average_heartrate\", \"max_heartrate\", \"average_cadence\"]]\n",
    "train_clean.head()"
   ]
  },
  {
   "cell_type": "code",
   "execution_count": 10,
   "metadata": {},
   "outputs": [
    {
     "data": {
      "text/html": [
       "<div>\n",
       "<style scoped>\n",
       "    .dataframe tbody tr th:only-of-type {\n",
       "        vertical-align: middle;\n",
       "    }\n",
       "\n",
       "    .dataframe tbody tr th {\n",
       "        vertical-align: top;\n",
       "    }\n",
       "\n",
       "    .dataframe thead th {\n",
       "        text-align: right;\n",
       "    }\n",
       "</style>\n",
       "<table border=\"1\" class=\"dataframe\">\n",
       "  <thead>\n",
       "    <tr style=\"text-align: right;\">\n",
       "      <th></th>\n",
       "      <th>type</th>\n",
       "      <th>type_m</th>\n",
       "      <th>x_start_h</th>\n",
       "      <th>x_min</th>\n",
       "      <th>average_heartrate</th>\n",
       "      <th>max_heartrate</th>\n",
       "      <th>average_cadence</th>\n",
       "    </tr>\n",
       "  </thead>\n",
       "  <tbody>\n",
       "    <tr>\n",
       "      <th>1</th>\n",
       "      <td>Run</td>\n",
       "      <td>Hike</td>\n",
       "      <td>15.4</td>\n",
       "      <td>141.5</td>\n",
       "      <td>95.0</td>\n",
       "      <td>124.0</td>\n",
       "      <td>53.2</td>\n",
       "    </tr>\n",
       "    <tr>\n",
       "      <th>12</th>\n",
       "      <td>Run</td>\n",
       "      <td>Run</td>\n",
       "      <td>7.6</td>\n",
       "      <td>50.7</td>\n",
       "      <td>152.2</td>\n",
       "      <td>165.0</td>\n",
       "      <td>85.5</td>\n",
       "    </tr>\n",
       "    <tr>\n",
       "      <th>14</th>\n",
       "      <td>Elliptical</td>\n",
       "      <td>Elliptical</td>\n",
       "      <td>15.9</td>\n",
       "      <td>45.4</td>\n",
       "      <td>130.6</td>\n",
       "      <td>157.0</td>\n",
       "      <td>60.4</td>\n",
       "    </tr>\n",
       "    <tr>\n",
       "      <th>19</th>\n",
       "      <td>Elliptical</td>\n",
       "      <td>Elliptical</td>\n",
       "      <td>21.4</td>\n",
       "      <td>35.6</td>\n",
       "      <td>133.5</td>\n",
       "      <td>154.0</td>\n",
       "      <td>55.0</td>\n",
       "    </tr>\n",
       "    <tr>\n",
       "      <th>31</th>\n",
       "      <td>Run</td>\n",
       "      <td>Run</td>\n",
       "      <td>18.5</td>\n",
       "      <td>27.5</td>\n",
       "      <td>147.3</td>\n",
       "      <td>164.0</td>\n",
       "      <td>88.6</td>\n",
       "    </tr>\n",
       "  </tbody>\n",
       "</table>\n",
       "</div>"
      ],
      "text/plain": [
       "          type      type_m  x_start_h  x_min  average_heartrate  \\\n",
       "1          Run        Hike       15.4  141.5               95.0   \n",
       "12         Run         Run        7.6   50.7              152.2   \n",
       "14  Elliptical  Elliptical       15.9   45.4              130.6   \n",
       "19  Elliptical  Elliptical       21.4   35.6              133.5   \n",
       "31         Run         Run       18.5   27.5              147.3   \n",
       "\n",
       "    max_heartrate  average_cadence  \n",
       "1           124.0             53.2  \n",
       "12          165.0             85.5  \n",
       "14          157.0             60.4  \n",
       "19          154.0             55.0  \n",
       "31          164.0             88.6  "
      ]
     },
     "execution_count": 10,
     "metadata": {},
     "output_type": "execute_result"
    }
   ],
   "source": [
    "test_clean = test_data[[\"type\", \"type_m\", \"x_start_h\", \"x_min\", \"average_heartrate\", \"max_heartrate\", \"average_cadence\"]]\n",
    "test_clean.head()"
   ]
  },
  {
   "cell_type": "code",
   "execution_count": 11,
   "metadata": {},
   "outputs": [],
   "source": [
    "y = train_clean[\"type_m\"]\n",
    "y2 = test_clean[\"type\"]\n",
    "y3 = test_clean[\"type_m\"]\n",
    "target_names = [\"Elliptical\", \"Hike\", \"Run\"]"
   ]
  },
  {
   "cell_type": "code",
   "execution_count": 19,
   "metadata": {},
   "outputs": [
    {
     "data": {
      "text/html": [
       "<div>\n",
       "<style scoped>\n",
       "    .dataframe tbody tr th:only-of-type {\n",
       "        vertical-align: middle;\n",
       "    }\n",
       "\n",
       "    .dataframe tbody tr th {\n",
       "        vertical-align: top;\n",
       "    }\n",
       "\n",
       "    .dataframe thead th {\n",
       "        text-align: right;\n",
       "    }\n",
       "</style>\n",
       "<table border=\"1\" class=\"dataframe\">\n",
       "  <thead>\n",
       "    <tr style=\"text-align: right;\">\n",
       "      <th></th>\n",
       "      <th>x_start_h</th>\n",
       "      <th>x_min</th>\n",
       "      <th>average_heartrate</th>\n",
       "      <th>max_heartrate</th>\n",
       "      <th>average_cadence</th>\n",
       "    </tr>\n",
       "  </thead>\n",
       "  <tbody>\n",
       "    <tr>\n",
       "      <th>2</th>\n",
       "      <td>7.4</td>\n",
       "      <td>48.7</td>\n",
       "      <td>151.7</td>\n",
       "      <td>186.0</td>\n",
       "      <td>84.2</td>\n",
       "    </tr>\n",
       "    <tr>\n",
       "      <th>3</th>\n",
       "      <td>6.8</td>\n",
       "      <td>172.2</td>\n",
       "      <td>156.5</td>\n",
       "      <td>193.0</td>\n",
       "      <td>84.4</td>\n",
       "    </tr>\n",
       "    <tr>\n",
       "      <th>4</th>\n",
       "      <td>6.4</td>\n",
       "      <td>82.4</td>\n",
       "      <td>158.2</td>\n",
       "      <td>183.0</td>\n",
       "      <td>86.1</td>\n",
       "    </tr>\n",
       "    <tr>\n",
       "      <th>5</th>\n",
       "      <td>8.1</td>\n",
       "      <td>20.1</td>\n",
       "      <td>141.4</td>\n",
       "      <td>169.0</td>\n",
       "      <td>85.8</td>\n",
       "    </tr>\n",
       "    <tr>\n",
       "      <th>6</th>\n",
       "      <td>7.3</td>\n",
       "      <td>112.4</td>\n",
       "      <td>157.7</td>\n",
       "      <td>198.0</td>\n",
       "      <td>85.3</td>\n",
       "    </tr>\n",
       "  </tbody>\n",
       "</table>\n",
       "</div>"
      ],
      "text/plain": [
       "   x_start_h  x_min  average_heartrate  max_heartrate  average_cadence\n",
       "2        7.4   48.7              151.7          186.0             84.2\n",
       "3        6.8  172.2              156.5          193.0             84.4\n",
       "4        6.4   82.4              158.2          183.0             86.1\n",
       "5        8.1   20.1              141.4          169.0             85.8\n",
       "6        7.3  112.4              157.7          198.0             85.3"
      ]
     },
     "execution_count": 19,
     "metadata": {},
     "output_type": "execute_result"
    }
   ],
   "source": [
    "X = train_clean.drop(\"type_m\", axis=1)\n",
    "X2 = test_clean.drop(\"type\", axis=1)\n",
    "X2 = X2.drop(\"type_m\", axis=1)\n",
    "X.head()"
   ]
  },
  {
   "cell_type": "code",
   "execution_count": 20,
   "metadata": {},
   "outputs": [],
   "source": [
    "from sklearn.preprocessing import StandardScaler\n",
    "# Create a StandardScater model and fit it to the training data\n",
    "X_scaler = StandardScaler().fit(X)"
   ]
  },
  {
   "cell_type": "code",
   "execution_count": 21,
   "metadata": {},
   "outputs": [],
   "source": [
    "# Transform the training and testing data using the X_scaler and y_scaler models\n",
    "X_train_scaled = X_scaler.transform(X)\n",
    "X2_test_scaled = X_scaler.transform(X2)"
   ]
  },
  {
   "cell_type": "code",
   "execution_count": 22,
   "metadata": {},
   "outputs": [
    {
     "data": {
      "text/plain": [
       "SVC(C=1.0, break_ties=False, cache_size=200, class_weight=None, coef0=0.0,\n",
       "    decision_function_shape='ovr', degree=3, gamma='scale', kernel='linear',\n",
       "    max_iter=-1, probability=False, random_state=None, shrinking=True,\n",
       "    tol=0.001, verbose=False)"
      ]
     },
     "execution_count": 22,
     "metadata": {},
     "output_type": "execute_result"
    }
   ],
   "source": [
    "# Support vector machine linear classifier\n",
    "from sklearn.svm import SVC \n",
    "model = SVC(kernel='linear')\n",
    "model.fit(X_train_scaled, y)"
   ]
  },
  {
   "cell_type": "code",
   "execution_count": 23,
   "metadata": {},
   "outputs": [
    {
     "name": "stdout",
     "output_type": "stream",
     "text": [
      "Test Acc: 0.971\n"
     ]
    }
   ],
   "source": [
    "print('Test Acc: %.3f' % model.score(X_train_scaled, y))"
   ]
  },
  {
   "cell_type": "code",
   "execution_count": 24,
   "metadata": {},
   "outputs": [
    {
     "name": "stdout",
     "output_type": "stream",
     "text": [
      "Test Acc: 0.490\n"
     ]
    }
   ],
   "source": [
    "print('Test Acc: %.3f' % model.score(X2_test_scaled, y2))"
   ]
  },
  {
   "cell_type": "code",
   "execution_count": 25,
   "metadata": {},
   "outputs": [
    {
     "name": "stdout",
     "output_type": "stream",
     "text": [
      "              precision    recall  f1-score   support\n",
      "\n",
      "  Elliptical       1.00      0.05      0.10        39\n",
      "        Hike       0.00      0.00      0.00         0\n",
      "         Run       0.89      0.77      0.82        61\n",
      "\n",
      "    accuracy                           0.49       100\n",
      "   macro avg       0.63      0.27      0.31       100\n",
      "weighted avg       0.93      0.49      0.54       100\n",
      "\n"
     ]
    },
    {
     "name": "stderr",
     "output_type": "stream",
     "text": [
      "C:\\ProgramData\\Anaconda3\\lib\\site-packages\\sklearn\\metrics\\_classification.py:1272: UndefinedMetricWarning: Recall and F-score are ill-defined and being set to 0.0 in labels with no true samples. Use `zero_division` parameter to control this behavior.\n",
      "  _warn_prf(average, modifier, msg_start, len(result))\n"
     ]
    }
   ],
   "source": [
    "# Calculate classification report\n",
    "from sklearn.metrics import classification_report\n",
    "predictions = model.predict(X2_test_scaled)\n",
    "print(classification_report(y2, predictions,\n",
    "                            target_names=target_names))"
   ]
  },
  {
   "cell_type": "code",
   "execution_count": 26,
   "metadata": {},
   "outputs": [
    {
     "data": {
      "text/plain": [
       "array([[ 2, 31,  6],\n",
       "       [ 0,  0,  0],\n",
       "       [ 0, 14, 47]], dtype=int64)"
      ]
     },
     "execution_count": 26,
     "metadata": {},
     "output_type": "execute_result"
    }
   ],
   "source": [
    "from sklearn.metrics import confusion_matrix,plot_confusion_matrix\n",
    "cm = confusion_matrix(y2,predictions)\n",
    "cm"
   ]
  },
  {
   "cell_type": "code",
   "execution_count": 27,
   "metadata": {},
   "outputs": [
    {
     "data": {
      "text/plain": [
       "<sklearn.metrics._plot.confusion_matrix.ConfusionMatrixDisplay at 0x25fb0ce4f88>"
      ]
     },
     "execution_count": 27,
     "metadata": {},
     "output_type": "execute_result"
    },
    {
     "data": {
      "image/png": "[encoded data removed]",
      "text/plain": [
       "<Figure size 432x288 with 2 Axes>"
      ]
     },
     "metadata": {
      "needs_background": "light"
     },
     "output_type": "display_data"
    }
   ],
   "source": [
    "plot_confusion_matrix(model,X2_test_scaled,y2)"
   ]
  },
  {
   "cell_type": "code",
   "execution_count": 28,
   "metadata": {},
   "outputs": [
    {
     "data": {
      "text/plain": [
       "array(['Hike', 'Run', 'Hike', 'Hike', 'Run', 'Hike', 'Run', 'Run', 'Hike',\n",
       "       'Hike', 'Hike', 'Hike', 'Run', 'Hike', 'Run', 'Run', 'Hike', 'Run',\n",
       "       'Run', 'Hike', 'Hike', 'Hike', 'Hike', 'Run', 'Hike', 'Elliptical',\n",
       "       'Run', 'Run', 'Run', 'Run', 'Run', 'Hike', 'Run', 'Run', 'Run',\n",
       "       'Hike', 'Hike', 'Hike', 'Run', 'Hike', 'Run', 'Hike', 'Run',\n",
       "       'Hike', 'Hike', 'Run', 'Run', 'Run', 'Hike', 'Run', 'Run', 'Run',\n",
       "       'Run', 'Hike', 'Run', 'Hike', 'Run', 'Run', 'Run', 'Hike', 'Hike',\n",
       "       'Run', 'Run', 'Run', 'Run', 'Hike', 'Hike', 'Hike', 'Run', 'Hike',\n",
       "       'Run', 'Run', 'Run', 'Run', 'Hike', 'Run', 'Run', 'Hike', 'Hike',\n",
       "       'Hike', 'Run', 'Run', 'Run', 'Hike', 'Hike', 'Hike', 'Run', 'Hike',\n",
       "       'Hike', 'Hike', 'Run', 'Elliptical', 'Run', 'Run', 'Run', 'Hike',\n",
       "       'Hike', 'Run', 'Hike', 'Run'], dtype=object)"
      ]
     },
     "execution_count": 28,
     "metadata": {},
     "output_type": "execute_result"
    }
   ],
   "source": [
    "predictions2 = model.predict(X2_test_scaled)\n",
    "predictions2"
   ]
  },
  {
   "cell_type": "code",
   "execution_count": 34,
   "metadata": {},
   "outputs": [],
   "source": [
    "prediction_df = pd.DataFrame({\"Prediction\": predictions2, \"Incorrectly Labeled\": y2, \"Correctly Labeled\": y3}).reset_index(drop=True)\n",
    "prediction_df.head(5)\n",
    "prediction_df.to_excel('andrew_predictions.xlsx', engine='xlsxwriter')  "
   ]
  },
  {
   "cell_type": "code",
   "execution_count": 31,
   "metadata": {},
   "outputs": [
    {
     "data": {
      "text/plain": [
       "array([[ 2, 31,  6],\n",
       "       [ 0, 14,  1],\n",
       "       [ 0,  0, 46]], dtype=int64)"
      ]
     },
     "execution_count": 31,
     "metadata": {},
     "output_type": "execute_result"
    }
   ],
   "source": [
    "cm2 = confusion_matrix(y3,predictions2)\n",
    "cm2"
   ]
  },
  {
   "cell_type": "code",
   "execution_count": 33,
   "metadata": {},
   "outputs": [
    {
     "data": {
      "text/plain": [
       "<sklearn.metrics._plot.confusion_matrix.ConfusionMatrixDisplay at 0x25fb1603bc8>"
      ]
     },
     "execution_count": 33,
     "metadata": {},
     "output_type": "execute_result"
    },
    {
     "data": {
      "image/png": "[encoded data removed]",
      "text/plain": [
       "<Figure size 432x288 with 2 Axes>"
      ]
     },
     "metadata": {
      "needs_background": "light"
     },
     "output_type": "display_data"
    }
   ],
   "source": [
    "plot_confusion_matrix(model,X2_test_scaled,y3)"
   ]
  },
  {
   "cell_type": "code",
   "execution_count": null,
   "metadata": {},
   "outputs": [],
   "source": []
  }
 ],
 "metadata": {
  "kernelspec": {
   "display_name": "Python 3",
   "language": "python",
   "name": "python3"
  },
  "language_info": {
   "codemirror_mode": {
    "name": "ipython",
    "version": 3
   },
   "file_extension": ".py",
   "mimetype": "text/x-python",
   "name": "python",
   "nbconvert_exporter": "python",
   "pygments_lexer": "ipython3",
   "version": "3.7.6"
  }
 },
 "nbformat": 4,
 "nbformat_minor": 4
}
